{
 "metadata": {
  "language_info": {
   "codemirror_mode": {
    "name": "ipython",
    "version": 3
   },
   "file_extension": ".py",
   "mimetype": "text/x-python",
   "name": "python",
   "nbconvert_exporter": "python",
   "pygments_lexer": "ipython3",
   "version": "3.9.1-final"
  },
  "orig_nbformat": 2,
  "kernelspec": {
   "name": "python39164bitadb80820a1f748159be7dfc66089a8f3",
   "display_name": "Python 3.9.1 64-bit",
   "language": "python"
  }
 },
 "nbformat": 4,
 "nbformat_minor": 2,
 "cells": [
  {
   "source": [
    "basic `if`"
   ],
   "cell_type": "markdown",
   "metadata": {}
  },
  {
   "cell_type": "code",
   "execution_count": 1,
   "metadata": {},
   "outputs": [
    {
     "output_type": "stream",
     "name": "stdout",
     "text": [
      "hurray\n"
     ]
    }
   ],
   "source": [
    " a = 120\n",
    " if a > 100:\n",
    "     print('hurray')"
   ]
  },
  {
   "cell_type": "code",
   "execution_count": 2,
   "metadata": {},
   "outputs": [],
   "source": [
    "if a == 121:\n",
    "    print('amazing')\n",
    "    print('this block wont run')"
   ]
  },
  {
   "cell_type": "code",
   "execution_count": null,
   "metadata": {},
   "outputs": [],
   "source": [
    "a = 10 \n",
    "b = 20\n",
    "c = 30\n",
    "if a < b and a < c:\n",
    "    print('a is smallest')"
   ]
  },
  {
   "cell_type": "code",
   "execution_count": null,
   "metadata": {},
   "outputs": [],
   "source": [
    "username = input('enter username')\n",
    "password = input('enter password')\n",
    "if username == 'Ben' and password =='Omnitrix':\n",
    "    print('welcome ben 10')\n"
   ]
  },
  {
   "cell_type": "code",
   "execution_count": 3,
   "metadata": {},
   "outputs": [
    {
     "output_type": "stream",
     "name": "stdout",
     "text": [
      "you are an adult person\n",
      "you are old too\n"
     ]
    }
   ],
   "source": [
    "age = 30\n",
    "if age > 25:\n",
    "    print('you are an adult person')\n",
    "if age > 50:\n",
    "    print('you are and old person')\n",
    "if age == 30:\n",
    "    print('you are old too')"
   ]
  },
  {
   "source": [
    "#### nested if"
   ],
   "cell_type": "markdown",
   "metadata": {}
  },
  {
   "cell_type": "code",
   "execution_count": 5,
   "metadata": {},
   "outputs": [
    {
     "output_type": "stream",
     "name": "stdout",
     "text": [
      "you are welcome\n"
     ]
    }
   ],
   "source": [
    "firstname = 'Vijay'\n",
    "lastname = 'chauhan'\n",
    "if firstname.startswith('V'):\n",
    "    if lastname.startswith('c'):\n",
    "        print('you are welcome')"
   ]
  },
  {
   "cell_type": "code",
   "execution_count": 8,
   "metadata": {},
   "outputs": [],
   "source": [
    "fav_color = input('enter fav color')\n",
    "if fav_color in ['red','yellow','orange']:\n",
    "    fav_fruit = input(\"enter your fav fruit\")\n",
    "    if fav_fruit.startswith('o'):\n",
    "        print('you are the chosen one')"
   ]
  },
  {
   "source": [
    "user se enter karwao pocketmoney, agar pocketmoney 1000 rs se jyada h to minus kro 500 rs. and uske bad agar pocketmoney 600 se kam h to add kro 200 rs."
   ],
   "cell_type": "markdown",
   "metadata": {}
  },
  {
   "cell_type": "code",
   "execution_count": 12,
   "metadata": {},
   "outputs": [
    {
     "output_type": "stream",
     "name": "stdout",
     "text": [
      "pocket money: 999\n"
     ]
    }
   ],
   "source": [
    "pm = int(input('enter pocket money'))\n",
    "if pm > 1000:\n",
    "    pm = pm - 500\n",
    "    if pm < 600:\n",
    "        pm = pm+200\n",
    "print('pocket money:', pm)"
   ]
  },
  {
   "cell_type": "code",
   "execution_count": 14,
   "metadata": {},
   "outputs": [
    {
     "output_type": "stream",
     "name": "stdout",
     "text": [
      "your name is consonanty\n"
     ]
    }
   ],
   "source": [
    "nm = input('enter your name')\n",
    "if nm.startswith('a') or nm.startswith('e') or nm.startswith('i'):\n",
    "    print('Your name is vowelly')\n",
    "else:\n",
    "    print('your name is consonanty')"
   ]
  },
  {
   "cell_type": "code",
   "execution_count": 15,
   "metadata": {},
   "outputs": [],
   "source": [
    "answer = 'naruto'\n",
    "question = 'who is the father of boruto'\n",
    "\n",
    "response = input(question)\n",
    "if response == answer:\n",
    "    print('you won the prize')\n",
    "elif response != 'sasuke':\n",
    "    print('you have not been reading the chapters')\n",
    "elif response == 'hinata':\n",
    "    print('you do not understand the question')\n",
    "else:\n",
    "    print('you gave  wrong answer')"
   ]
  },
  {
   "cell_type": "code",
   "execution_count": null,
   "metadata": {},
   "outputs": [],
   "source": []
  }
 ]
}