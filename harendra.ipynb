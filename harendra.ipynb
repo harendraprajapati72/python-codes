{
 "metadata": {
  "language_info": {
   "codemirror_mode": {
    "name": "ipython",
    "version": 3
   },
   "file_extension": ".py",
   "mimetype": "text/x-python",
   "name": "python",
   "nbconvert_exporter": "python",
   "pygments_lexer": "ipython3",
   "version": "3.8.2-final"
  },
  "orig_nbformat": 2,
  "kernelspec": {
   "name": "python3",
   "display_name": "Python 3.8.2 64-bit",
   "metadata": {
    "interpreter": {
     "hash": "31f2aee4e71d21fbe5cf8b01ff0e069b9275f58929596ceb00d14d90e3e16cd6"
    }
   }
  }
 },
 "nbformat": 4,
 "nbformat_minor": 2,
 "cells": [
  {
   "source": [
    "## Datatypes in python and variables\n",
    "'''for heading use # space (# heading)the press shift+enter'''\n"
   ],
   "cell_type": "markdown",
   "metadata": {}
  },
  {
   "cell_type": "code",
   "execution_count": 16,
   "metadata": {},
   "outputs": [],
   "source": [
    "a = 123\n",
    "b = 203"
   ]
  },
  {
   "cell_type": "code",
   "execution_count": 17,
   "metadata": {},
   "outputs": [
    {
     "output_type": "execute_result",
     "data": {
      "text/plain": [
       "123"
      ]
     },
     "metadata": {},
     "execution_count": 17
    }
   ],
   "source": [
    "a"
   ]
  },
  {
   "source": [
    "print(a,b)"
   ],
   "cell_type": "markdown",
   "metadata": {}
  },
  {
   "cell_type": "code",
   "execution_count": 25,
   "metadata": {},
   "outputs": [],
   "source": [
    "poem = '''Baba black sheep\n",
    "have u any wool,\n",
    "yes sir , yes sir ,\n",
    "3 bags full,\n",
    "to be continue...'''"
   ]
  },
  {
   "cell_type": "code",
   "execution_count": 27,
   "metadata": {},
   "outputs": [
    {
     "output_type": "stream",
     "name": "stdout",
     "text": [
      "Baba black sheep\nhave u any wool,\nyes sir , yes sir ,\n3 bags full,\nto be continue...\n"
     ]
    }
   ],
   "source": [
    "print(poem)"
   ]
  },
  {
   "source": [
    "## input and output"
   ],
   "cell_type": "markdown",
   "metadata": {}
  },
  {
   "cell_type": "code",
   "execution_count": 28,
   "metadata": {},
   "outputs": [
    {
     "output_type": "stream",
     "name": "stdout",
     "text": [
      "this is output\n"
     ]
    }
   ],
   "source": [
    "print('this is output')"
   ]
  },
  {
   "cell_type": "code",
   "execution_count": 29,
   "metadata": {},
   "outputs": [],
   "source": [
    "name =input('Enter ur name --> ')"
   ]
  },
  {
   "cell_type": "code",
   "execution_count": 30,
   "metadata": {},
   "outputs": [
    {
     "output_type": "stream",
     "name": "stdout",
     "text": [
      "Zaid Kamil\n"
     ]
    }
   ],
   "source": [
    "print(name)"
   ]
  },
  {
   "cell_type": "code",
   "execution_count": 31,
   "metadata": {},
   "outputs": [],
   "source": [
    "name = input('Enter Name ')\n",
    "college = input('Enter College ')\n",
    "sem = input('Enter Semester ')\n",
    "iq = input('Enter IQ ')"
   ]
  },
  {
   "cell_type": "code",
   "execution_count": 32,
   "metadata": {},
   "outputs": [
    {
     "output_type": "stream",
     "name": "stdout",
     "text": [
      "Name: Alex mason\nCollege: St. Summer college\nSemester: 3\nI.Q. 89\n"
     ]
    }
   ],
   "source": [
    "print(\"Name:\", name)\n",
    "print(\"College:\", college)\n",
    "print(\"Semester:\", sem)\n",
    "print(\"I.Q.\", iq)"
   ]
  },
  {
   "source": [
    "### input and output"
   ],
   "cell_type": "markdown",
   "metadata": {}
  },
  {
   "cell_type": "code",
   "execution_count": 2,
   "metadata": {},
   "outputs": [
    {
     "output_type": "stream",
     "name": "stdout",
     "text": [
      "prussian blue\n"
     ]
    }
   ],
   "source": [
    "fav_color = input('enter the color that u like')\n",
    "print(fav_color)"
   ]
  },
  {
   "cell_type": "code",
   "execution_count": 3,
   "metadata": {},
   "outputs": [
    {
     "output_type": "stream",
     "name": "stdout",
     "text": [
      "120 300\n120300\n"
     ]
    }
   ],
   "source": [
    "a = input('Enter a number:')\n",
    "b = input('Enter other number:')\n",
    "print(a, b)\n",
    "c = a + b\n",
    "print(c)"
   ]
  },
  {
   "cell_type": "code",
   "execution_count": 4,
   "metadata": {},
   "outputs": [
    {
     "output_type": "stream",
     "text": [
      "\u001b[1;31mInit signature:\u001b[0m \u001b[0mint\u001b[0m\u001b[1;33m(\u001b[0m\u001b[0mself\u001b[0m\u001b[1;33m,\u001b[0m \u001b[1;33m/\u001b[0m\u001b[1;33m,\u001b[0m \u001b[1;33m*\u001b[0m\u001b[0margs\u001b[0m\u001b[1;33m,\u001b[0m \u001b[1;33m**\u001b[0m\u001b[0mkwargs\u001b[0m\u001b[1;33m)\u001b[0m\u001b[1;33m\u001b[0m\u001b[1;33m\u001b[0m\u001b[0m\n",
      "\u001b[1;31mDocstring:\u001b[0m     \n",
      "int([x]) -> integer\n",
      "int(x, base=10) -> integer\n",
      "\n",
      "Convert a number or string to an integer, or return 0 if no arguments\n",
      "are given.  If x is a number, return x.__int__().  For floating point\n",
      "numbers, this truncates towards zero.\n",
      "\n",
      "If x is not a number or if base is given, then x must be a string,\n",
      "bytes, or bytearray instance representing an integer literal in the\n",
      "given base.  The literal can be preceded by '+' or '-' and be surrounded\n",
      "by whitespace.  The base defaults to 10.  Valid bases are 0 and 2-36.\n",
      "Base 0 means to interpret the base from the string as an integer literal.\n",
      ">>> int('0b100', base=0)\n",
      "4\n",
      "\u001b[1;31mType:\u001b[0m           type\n",
      "\u001b[1;31mSubclasses:\u001b[0m     bool, IntEnum, IntFlag, _NamedIntConstant, Handle\n"
     ],
     "name": "stdout"
    }
   ],
   "source": [
    "int?"
   ]
  },
  {
   "cell_type": "code",
   "execution_count": 6,
   "metadata": {},
   "outputs": [
    {
     "output_type": "execute_result",
     "data": {
      "text/plain": [
       "120"
      ]
     },
     "metadata": {},
     "execution_count": 6
    }
   ],
   "source": [
    "int(a)"
   ]
  },
  {
   "cell_type": "code",
   "execution_count": 8,
   "metadata": {},
   "outputs": [
    {
     "output_type": "execute_result",
     "data": {
      "text/plain": [
       "str"
      ]
     },
     "metadata": {},
     "execution_count": 8
    }
   ],
   "source": [
    "type(a)"
   ]
  },
  {
   "cell_type": "code",
   "execution_count": 9,
   "metadata": {},
   "outputs": [
    {
     "output_type": "execute_result",
     "data": {
      "text/plain": [
       "int"
      ]
     },
     "metadata": {},
     "execution_count": 9
    }
   ],
   "source": [
    "a = int(a)\n",
    "type(a)"
   ]
  },
  {
   "cell_type": "code",
   "execution_count": 16,
   "metadata": {},
   "outputs": [
    {
     "output_type": "stream",
     "name": "stdout",
     "text": [
      "24.43\n"
     ]
    }
   ],
   "source": [
    "a = float(input('enter a number'))\n",
    "b = float(input('enter b number'))\n",
    "c = a + b\n",
    "print(c)"
   ]
  },
  {
   "source": [
    "# operators\n",
    "- assignment\n",
    "- arithmetic \n",
    "- comparison\n",
    "- logical\n",
    "- instance `is`\n",
    "- membership `in`"
   ],
   "cell_type": "markdown",
   "metadata": {}
  },
  {
   "cell_type": "code",
   "execution_count": 17,
   "metadata": {},
   "outputs": [],
   "source": [
    "a = 10\n",
    "b = 3"
   ]
  },
  {
   "cell_type": "code",
   "execution_count": 18,
   "metadata": {},
   "outputs": [
    {
     "output_type": "execute_result",
     "data": {
      "text/plain": [
       "13"
      ]
     },
     "metadata": {},
     "execution_count": 18
    }
   ],
   "source": [
    "a + b"
   ]
  },
  {
   "cell_type": "code",
   "execution_count": 19,
   "metadata": {},
   "outputs": [
    {
     "output_type": "execute_result",
     "data": {
      "text/plain": [
       "7"
      ]
     },
     "metadata": {},
     "execution_count": 19
    }
   ],
   "source": [
    "a - b"
   ]
  },
  {
   "cell_type": "code",
   "execution_count": 20,
   "metadata": {},
   "outputs": [
    {
     "output_type": "execute_result",
     "data": {
      "text/plain": [
       "0"
      ]
     },
     "metadata": {},
     "execution_count": 20
    }
   ],
   "source": [
    "a - 10"
   ]
  },
  {
   "cell_type": "code",
   "execution_count": 22,
   "metadata": {},
   "outputs": [
    {
     "output_type": "execute_result",
     "data": {
      "text/plain": [
       "30"
      ]
     },
     "metadata": {},
     "execution_count": 22
    }
   ],
   "source": [
    "a * b"
   ]
  },
  {
   "source": [
    "`normal division -> always get float result`"
   ],
   "cell_type": "markdown",
   "metadata": {}
  },
  {
   "cell_type": "code",
   "execution_count": 23,
   "metadata": {},
   "outputs": [
    {
     "output_type": "execute_result",
     "data": {
      "text/plain": [
       "3.3333333333333335"
      ]
     },
     "metadata": {},
     "execution_count": 23
    }
   ],
   "source": [
    "a / b "
   ]
  },
  {
   "cell_type": "code",
   "execution_count": 24,
   "metadata": {},
   "outputs": [
    {
     "output_type": "execute_result",
     "data": {
      "text/plain": [
       "5.0"
      ]
     },
     "metadata": {},
     "execution_count": 24
    }
   ],
   "source": [
    "10 / 2"
   ]
  },
  {
   "source": [
    "// `integer division` -> output result is int "
   ],
   "cell_type": "markdown",
   "metadata": {}
  },
  {
   "cell_type": "code",
   "execution_count": 26,
   "metadata": {},
   "outputs": [
    {
     "output_type": "execute_result",
     "data": {
      "text/plain": [
       "3"
      ]
     },
     "metadata": {},
     "execution_count": 26
    }
   ],
   "source": [
    "a // b"
   ]
  },
  {
   "cell_type": "code",
   "execution_count": 27,
   "metadata": {},
   "outputs": [
    {
     "output_type": "execute_result",
     "data": {
      "text/plain": [
       "24"
      ]
     },
     "metadata": {},
     "execution_count": 27
    }
   ],
   "source": [
    "123 // 5"
   ]
  },
  {
   "source": [
    "% `modulus` gives remainder"
   ],
   "cell_type": "markdown",
   "metadata": {}
  },
  {
   "cell_type": "code",
   "execution_count": 29,
   "metadata": {},
   "outputs": [
    {
     "output_type": "execute_result",
     "data": {
      "text/plain": [
       "1"
      ]
     },
     "metadata": {},
     "execution_count": 29
    }
   ],
   "source": [
    "a % b "
   ]
  },
  {
   "cell_type": "code",
   "execution_count": 30,
   "metadata": {},
   "outputs": [
    {
     "output_type": "execute_result",
     "data": {
      "text/plain": [
       "0"
      ]
     },
     "metadata": {},
     "execution_count": 30
    }
   ],
   "source": [
    "a % 2"
   ]
  },
  {
   "cell_type": "code",
   "execution_count": 31,
   "metadata": {},
   "outputs": [
    {
     "output_type": "execute_result",
     "data": {
      "text/plain": [
       "1"
      ]
     },
     "metadata": {},
     "execution_count": 31
    }
   ],
   "source": [
    "b % 2"
   ]
  },
  {
   "cell_type": "code",
   "execution_count": 32,
   "metadata": {},
   "outputs": [
    {
     "output_type": "execute_result",
     "data": {
      "text/plain": [
       "1"
      ]
     },
     "metadata": {},
     "execution_count": 32
    }
   ],
   "source": [
    "18239 % 2"
   ]
  },
  {
   "source": [
    "** `exponent` power "
   ],
   "cell_type": "markdown",
   "metadata": {}
  },
  {
   "cell_type": "code",
   "execution_count": 33,
   "metadata": {},
   "outputs": [
    {
     "output_type": "execute_result",
     "data": {
      "text/plain": [
       "1000"
      ]
     },
     "metadata": {},
     "execution_count": 33
    }
   ],
   "source": [
    "a ** b"
   ]
  },
  {
   "cell_type": "code",
   "execution_count": 34,
   "metadata": {},
   "outputs": [
    {
     "output_type": "execute_result",
     "data": {
      "text/plain": [
       "10000000000000000000000000000000000000000000000000000000000000000000000000000000000000000000000000000"
      ]
     },
     "metadata": {},
     "execution_count": 34
    }
   ],
   "source": [
    "a ** 100"
   ]
  },
  {
   "cell_type": "code",
   "execution_count": 35,
   "metadata": {},
   "outputs": [
    {
     "output_type": "execute_result",
     "data": {
      "text/plain": [
       "1267650600228229401496703205376"
      ]
     },
     "metadata": {},
     "execution_count": 35
    }
   ],
   "source": [
    "2 ** 100"
   ]
  },
  {
   "cell_type": "code",
   "execution_count": 37,
   "metadata": {},
   "outputs": [
    {
     "output_type": "execute_result",
     "data": {
      "text/plain": [
       "100000000000000000000000000000000000000000000000000000000000000000000000000000000000000000000000000000000000000000000000000000000000000000000000000000000000000000000000000000000000000000000000000000000000000000000000000000000000000000000000000000000000000000000000000000000000000000000000000000000000000000000000000000000000000000000000000000000000000000000000000000000000000000000000000000000000000000000000000000000000000000000000000000000000000000000000000000000000000000000000000000000000000000000000000000000000000000000000000000000000000000000000000000000000000000000000000000000000000000000000000000000000000000000000000000000000000000000000000000000000000000000000000000000000000000000000000000000000000000000000000000000000000000000000000000000000000000000000000000000000000000000000000000000000000000000000000000000000000000000000000000000000000000000000000000000000000000000000000000000000000000000000000000000000000000000000000000000000000000000000000000000000000000000000000000000000000000000000000000000000000000000000000000000000000000000000000000000000000000000000000000000000000000000000000000000000000000000000000000000000000000000000000000000000000000000000000000000000000000000000000000000000000000000000000000000000000000000000000000000000000000000000000000000000000000000000000000000000000000000000000000000000000000000000000000000000000000000000000000000000000000000000000000000000000000000000000000000000000000000000000000000000000000000000000000000000000000000000000000000000000000000000000000000000000000000000000000000000000000000000000000000000000000000000000000000000000000000000000000000000000000000000000000000000000000000000000000000000000000000000000000000000000000000000000000000000000000000000000000000000000000000000000000000000000000000000000000000000000000000000000000000000000000000000000000000000000000000000000000000000000000000000000000000000000000000000000000000000000000000000000000000000000000000000000000000000000000000000000000000000000000000000000000000"
      ]
     },
     "metadata": {},
     "execution_count": 37
    }
   ],
   "source": [
    "100 ** 1000"
   ]
  },
  {
   "cell_type": "code",
   "execution_count": 38,
   "metadata": {},
   "outputs": [
    {
     "output_type": "execute_result",
     "data": {
      "text/plain": [
       "True"
      ]
     },
     "metadata": {},
     "execution_count": 38
    }
   ],
   "source": [
    "a > b"
   ]
  },
  {
   "cell_type": "code",
   "execution_count": 39,
   "metadata": {},
   "outputs": [
    {
     "output_type": "execute_result",
     "data": {
      "text/plain": [
       "False"
      ]
     },
     "metadata": {},
     "execution_count": 39
    }
   ],
   "source": [
    "a < b"
   ]
  },
  {
   "cell_type": "code",
   "execution_count": 40,
   "metadata": {},
   "outputs": [
    {
     "output_type": "execute_result",
     "data": {
      "text/plain": [
       "False"
      ]
     },
     "metadata": {},
     "execution_count": 40
    }
   ],
   "source": [
    "a == b"
   ]
  },
  {
   "cell_type": "code",
   "execution_count": 41,
   "metadata": {},
   "outputs": [
    {
     "output_type": "execute_result",
     "data": {
      "text/plain": [
       "True"
      ]
     },
     "metadata": {},
     "execution_count": 41
    }
   ],
   "source": [
    "a >= b"
   ]
  },
  {
   "cell_type": "code",
   "execution_count": 42,
   "metadata": {},
   "outputs": [
    {
     "output_type": "execute_result",
     "data": {
      "text/plain": [
       "False"
      ]
     },
     "metadata": {},
     "execution_count": 42
    }
   ],
   "source": [
    "a <= b"
   ]
  },
  {
   "cell_type": "code",
   "execution_count": 43,
   "metadata": {},
   "outputs": [
    {
     "output_type": "execute_result",
     "data": {
      "text/plain": [
       "True"
      ]
     },
     "metadata": {},
     "execution_count": 43
    }
   ],
   "source": [
    "a != b"
   ]
  },
  {
   "source": [
    "##logical operator\n",
    "- and\n",
    "- or\n",
    "- not"
   ],
   "cell_type": "markdown",
   "metadata": {}
  },
  {
   "cell_type": "code",
   "execution_count": 45,
   "metadata": {},
   "outputs": [],
   "source": [
    "name = 'sonu'\n",
    "password = '123123'"
   ]
  },
  {
   "cell_type": "code",
   "execution_count": 46,
   "metadata": {},
   "outputs": [
    {
     "output_type": "execute_result",
     "data": {
      "text/plain": [
       "True"
      ]
     },
     "metadata": {},
     "execution_count": 46
    }
   ],
   "source": [
    "name == 'sonu' and password == '123123'"
   ]
  },
  {
   "cell_type": "code",
   "execution_count": 47,
   "metadata": {},
   "outputs": [
    {
     "output_type": "execute_result",
     "data": {
      "text/plain": [
       "False"
      ]
     },
     "metadata": {},
     "execution_count": 47
    }
   ],
   "source": [
    "name == 'sonu' and password == '1233123'"
   ]
  },
  {
   "cell_type": "code",
   "execution_count": null,
   "metadata": {},
   "outputs": [],
   "source": [
    "name == 'sonu' or password == '12112'"
   ]
  },
  {
   "cell_type": "code",
   "execution_count": 48,
   "metadata": {},
   "outputs": [
    {
     "output_type": "execute_result",
     "data": {
      "text/plain": [
       "False"
      ]
     },
     "metadata": {},
     "execution_count": 48
    }
   ],
   "source": [
    "email = input('enter email')\n",
    "password = input('enter password')\n",
    "email =='rajababu' and password == 'admin'"
   ]
  },
  {
   "cell_type": "code",
   "execution_count": 49,
   "metadata": {},
   "outputs": [
    {
     "output_type": "execute_result",
     "data": {
      "text/plain": [
       "True"
      ]
     },
     "metadata": {},
     "execution_count": 49
    }
   ],
   "source": [
    "not email == 'raju'"
   ]
  },
  {
   "cell_type": "code",
   "execution_count": 50,
   "metadata": {},
   "outputs": [],
   "source": [
    "hungry = 'yes'"
   ]
  },
  {
   "cell_type": "code",
   "execution_count": 51,
   "metadata": {},
   "outputs": [
    {
     "output_type": "execute_result",
     "data": {
      "text/plain": [
       "True"
      ]
     },
     "metadata": {},
     "execution_count": 51
    }
   ],
   "source": [
    "not hungry == 'no'"
   ]
  },
  {
   "cell_type": "code",
   "execution_count": 52,
   "metadata": {},
   "outputs": [],
   "source": [
    "age = 20"
   ]
  },
  {
   "cell_type": "code",
   "execution_count": 54,
   "metadata": {},
   "outputs": [
    {
     "output_type": "execute_result",
     "data": {
      "text/plain": [
       "False"
      ]
     },
     "metadata": {},
     "execution_count": 54
    }
   ],
   "source": [
    "not age == 20"
   ]
  },
  {
   "cell_type": "code",
   "execution_count": 56,
   "metadata": {},
   "outputs": [],
   "source": [
    "x = [1,2,3,3,2,4,5,2,6,'Orange']"
   ]
  },
  {
   "cell_type": "code",
   "execution_count": 58,
   "metadata": {},
   "outputs": [
    {
     "output_type": "execute_result",
     "data": {
      "text/plain": [
       "False"
      ]
     },
     "metadata": {},
     "execution_count": 58
    }
   ],
   "source": [
    "100 in x"
   ]
  },
  {
   "cell_type": "code",
   "execution_count": 59,
   "metadata": {},
   "outputs": [
    {
     "output_type": "execute_result",
     "data": {
      "text/plain": [
       "True"
      ]
     },
     "metadata": {},
     "execution_count": 59
    }
   ],
   "source": [
    "3 in x"
   ]
  },
  {
   "cell_type": "code",
   "execution_count": 60,
   "metadata": {},
   "outputs": [
    {
     "output_type": "execute_result",
     "data": {
      "text/plain": [
       "False"
      ]
     },
     "metadata": {},
     "execution_count": 60
    }
   ],
   "source": [
    "a in x"
   ]
  },
  {
   "cell_type": "code",
   "execution_count": 61,
   "metadata": {},
   "outputs": [
    {
     "output_type": "execute_result",
     "data": {
      "text/plain": [
       "True"
      ]
     },
     "metadata": {},
     "execution_count": 61
    }
   ],
   "source": [
    "b in x"
   ]
  },
  {
   "cell_type": "code",
   "execution_count": 62,
   "metadata": {},
   "outputs": [
    {
     "output_type": "execute_result",
     "data": {
      "text/plain": [
       "False"
      ]
     },
     "metadata": {},
     "execution_count": 62
    }
   ],
   "source": [
    "'ORANGE' in x"
   ]
  },
  {
   "cell_type": "code",
   "execution_count": 64,
   "metadata": {},
   "outputs": [
    {
     "output_type": "execute_result",
     "data": {
      "text/plain": [
       "True"
      ]
     },
     "metadata": {},
     "execution_count": 64
    }
   ],
   "source": [
    "'Orange' in x"
   ]
  },
  {
   "cell_type": "code",
   "execution_count": 4,
   "metadata": {},
   "outputs": [
    {
     "output_type": "execute_result",
     "data": {
      "text/plain": [
       "True"
      ]
     },
     "metadata": {},
     "execution_count": 4
    }
   ],
   "source": [
    "a=[1,2,3,4,5,6,'black']\n",
    "'black' in a\n"
   ]
  },
  {
   "source": [
    "# Taking inputs from users"
   ],
   "cell_type": "markdown",
   "metadata": {}
  },
  {
   "cell_type": "code",
   "execution_count": 7,
   "metadata": {},
   "outputs": [
    {
     "output_type": "execute_result",
     "data": {
      "text/plain": [
       "False"
      ]
     },
     "metadata": {},
     "execution_count": 7
    }
   ],
   "source": [
    "'Black' in a"
   ]
  },
  {
   "cell_type": "code",
   "execution_count": 17,
   "metadata": {},
   "outputs": [
    {
     "output_type": "stream",
     "name": "stdout",
     "text": [
      "the addition of two numbers is: 7\n"
     ]
    }
   ],
   "source": [
    "a=input('enter the value of a')\n",
    "a=int(a)\n",
    "b=input('enter the value of b')\n",
    "b=int(b)\n",
    "c=(a+b)\n",
    "print('the addition of two numbers is:',+c)"
   ]
  },
  {
   "cell_type": "code",
   "execution_count": 16,
   "metadata": {},
   "outputs": [
    {
     "output_type": "stream",
     "name": "stdout",
     "text": [
      "the substraction  of two numbers is: 2\n"
     ]
    }
   ],
   "source": [
    "a=input('enter the value of a')\n",
    "a=int(a)\n",
    "b=input('enter the value of b')\n",
    "b=int(b)\n",
    "c=(a-b)\n",
    "print('the substraction  of two numbers is:',+c)"
   ]
  },
  {
   "cell_type": "code",
   "execution_count": 15,
   "metadata": {},
   "outputs": [
    {
     "output_type": "stream",
     "name": "stdout",
     "text": [
      "the multiplication of two numbers is: 6\n"
     ]
    }
   ],
   "source": [
    "a=input('enter the value of a')\n",
    "a=int(a)\n",
    "b=input('enter the value of b')\n",
    "b=int(b)\n",
    "c=(a*b)\n",
    "print('the multiplication of two numbers is:',+c)"
   ]
  },
  {
   "cell_type": "code",
   "execution_count": 13,
   "metadata": {},
   "outputs": [
    {
     "output_type": "stream",
     "name": "stdout",
     "text": [
      "the division of two numbers is: 3.0\n"
     ]
    }
   ],
   "source": [
    "a=input('enter the value of a')\n",
    "a=int(a)\n",
    "b=input('enter the value of b')\n",
    "b=int(b)\n",
    "c=(a/b)\n",
    "print('the division of two numbers is:',+c)"
   ]
  },
  {
   "cell_type": "code",
   "execution_count": 14,
   "metadata": {},
   "outputs": [
    {
     "output_type": "stream",
     "name": "stdout",
     "text": [
      "the division of two numbers is: 3\n"
     ]
    }
   ],
   "source": [
    "a=input('enter the value of a')\n",
    "a=int(a)\n",
    "b=input('enter the value of b')\n",
    "b=int(b)\n",
    "c=(a//b)\n",
    "print('the division of two numbers is:',+c)"
   ]
  },
  {
   "source": [
    "# conditions and loops"
   ],
   "cell_type": "markdown",
   "metadata": {}
  },
  {
   "cell_type": "code",
   "execution_count": 4,
   "metadata": {},
   "outputs": [
    {
     "output_type": "stream",
     "name": "stdout",
     "text": [
      "its even\n"
     ]
    }
   ],
   "source": [
    "if  10%2 == 0:\n",
    "\n",
    "    print(\"its even\")\n"
   ]
  },
  {
   "cell_type": "code",
   "execution_count": 8,
   "metadata": {},
   "outputs": [
    {
     "output_type": "stream",
     "name": "stdout",
     "text": [
      "waah\n"
     ]
    }
   ],
   "source": [
    " a=120\n",
    " if a>100:\n",
    "  print('waah')"
   ]
  },
  {
   "cell_type": "code",
   "execution_count": 16,
   "metadata": {},
   "outputs": [],
   "source": [
    "\n",
    " if a==140:\n",
    "   print('amazing')\n",
    "   print(\"this block is contains error\")\n"
   ]
  },
  {
   "cell_type": "code",
   "execution_count": 17,
   "metadata": {},
   "outputs": [
    {
     "output_type": "stream",
     "name": "stdout",
     "text": [
      "a is smallest\n"
     ]
    }
   ],
   "source": [
    "a=10\n",
    "b=20\n",
    "c=30\n",
    "if a<b and a<c:\n",
    " print('a is smallest')\n"
   ]
  },
  {
   "cell_type": "code",
   "execution_count": 19,
   "metadata": {},
   "outputs": [
    {
     "output_type": "stream",
     "name": "stdout",
     "text": [
      "jwelcome ben 10\n"
     ]
    }
   ],
   "source": [
    "username=input(\"enter user name\")\n",
    "password=input(\"enter password\")\n",
    "if username =='Ben' and password =='Omnitrix':\n",
    "    print('welcome ben 10')"
   ]
  },
  {
   "cell_type": "code",
   "execution_count": 24,
   "metadata": {},
   "outputs": [
    {
     "output_type": "stream",
     "name": "stdout",
     "text": [
      "youv are aduld persion\nyou are old too\n"
     ]
    }
   ],
   "source": [
    "age = 30\n",
    "if age>25:\n",
    " print('youv are aduld persion')\n",
    "if age>50:\n",
    " print(\"you are old\")\n",
    "if age==30:\n",
    " print('you are old too')\n"
   ]
  },
  {
   "source": [
    "## neste if"
   ],
   "cell_type": "markdown",
   "metadata": {}
  },
  {
   "cell_type": "code",
   "execution_count": 37,
   "metadata": {},
   "outputs": [
    {
     "output_type": "stream",
     "name": "stdout",
     "text": [
      "welcome\n"
     ]
    }
   ],
   "source": [
    "firstname='vijay'\n",
    "lastname='chauhan'\n",
    "if firstname.startswith('v'):\n",
    "    if lastname.startswith('c'):\n",
    "        print('welcome')"
   ]
  },
  {
   "cell_type": "code",
   "execution_count": 38,
   "metadata": {},
   "outputs": [
    {
     "output_type": "stream",
     "name": "stdout",
     "text": [
      "you are choosen one\n"
     ]
    }
   ],
   "source": [
    "favcol=input(\"enter fav color\")\n",
    "if favcol in ['red','orange','yellow']:\n",
    "    favfruit=input(\"enter your fav fruit\")\n",
    "    if favfruit.startswith('o'):\n",
    "        print(\"you are choosen one\")"
   ]
  },
  {
   "cell_type": "code",
   "execution_count": 67,
   "metadata": {},
   "outputs": [
    {
     "output_type": "stream",
     "name": "stdout",
     "text": [
      "ypur pocket money is: 500\n"
     ]
    }
   ],
   "source": [
    "pmony=int(input('enter your pocket money'))\n",
    "if pmony >1000:\n",
    "    pmony=pmony -500\n",
    "if pmony<600:\n",
    "        pmony=pmony+200\n",
    "print('ypur pocket money is:',pmony)\n",
    "    \n"
   ]
  },
  {
   "source": [
    "## if else "
   ],
   "cell_type": "markdown",
   "metadata": {}
  },
  {
   "cell_type": "code",
   "execution_count": 73,
   "metadata": {},
   "outputs": [
    {
     "output_type": "stream",
     "name": "stdout",
     "text": [
      "its false\n"
     ]
    }
   ],
   "source": [
    "a=40\n",
    "if a>=41:\n",
    "    print(\"its true\")\n",
    "else:\n",
    "    print(\"its false\")"
   ]
  },
  {
   "cell_type": "code",
   "execution_count": 74,
   "metadata": {},
   "outputs": [
    {
     "output_type": "stream",
     "name": "stdout",
     "text": [
      "nothing true\n"
     ]
    }
   ],
   "source": [
    "a=30\n",
    "if a>=41:\n",
    "    print(\"its true\")\n",
    "else:\n",
    "    print(\"nothing true\")"
   ]
  },
  {
   "cell_type": "code",
   "execution_count": 76,
   "metadata": {},
   "outputs": [
    {
     "output_type": "stream",
     "name": "stdout",
     "text": [
      "you name is not correct\n"
     ]
    }
   ],
   "source": [
    "nm= input('enter your name')\n",
    "if nm.startswith('a') or nm.startswith('e') or nm.startswith('i') or nm.startswith('o') or nm.startswith('u'):\n",
    "    print(\"your name is correct\")\n",
    "else:\n",
    "    print(\"you name is not correct\")\n",
    "\n"
   ]
  },
  {
   "cell_type": "code",
   "execution_count": 82,
   "metadata": {},
   "outputs": [
    {
     "output_type": "stream",
     "name": "stdout",
     "text": [
      "true\n"
     ]
    }
   ],
   "source": [
    "string=['the','name']\n",
    "if 'the' in string:\n",
    "     print('true')"
   ]
  },
  {
   "cell_type": "code",
   "execution_count": 84,
   "metadata": {},
   "outputs": [
    {
     "output_type": "stream",
     "name": "stdout",
     "text": [
      "a is not 50\n"
     ]
    }
   ],
   "source": [
    "a=40\n",
    "b=30\n",
    "\n",
    "if a is 50:\n",
    "    print(\"a is 50\")\n",
    "else:\n",
    "    print('a is not 50')"
   ]
  },
  {
   "cell_type": "code",
   "execution_count": 95,
   "metadata": {},
   "outputs": [],
   "source": [
    "answer=\"naruto\"\n",
    "question=\" who is father of boruto\"\n",
    "res=input(question)\n",
    "if res==answer:\n",
    "    print(\"you won the match\")\n",
    "elif res=='sasuke':\n",
    "        print(\"p read chapter\")\n",
    "     "
   ]
  },
  {
   "source": [
    "## Loops"
   ],
   "cell_type": "markdown",
   "metadata": {}
  },
  {
   "source": [
    "- step base \n",
    "- condition base loop\n",
    "\n"
   ],
   "cell_type": "markdown",
   "metadata": {}
  },
  {
   "cell_type": "code",
   "execution_count": 1,
   "metadata": {},
   "outputs": [
    {
     "output_type": "error",
     "ename": "SyntaxError",
     "evalue": "invalid syntax (<ipython-input-1-0a943580a19f>, line 2)",
     "traceback": [
      "\u001b[0;36m  File \u001b[0;32m\"<ipython-input-1-0a943580a19f>\"\u001b[0;36m, line \u001b[0;32m2\u001b[0m\n\u001b[0;31m    statement 1\u001b[0m\n\u001b[0m              ^\u001b[0m\n\u001b[0;31mSyntaxError\u001b[0m\u001b[0;31m:\u001b[0m invalid syntax\n"
     ]
    }
   ],
   "source": [
    "for temp_var in irerable:\n",
    "    statement 1\n",
    "    statement 2\n",
    "    ...\n",
    "    statement n\n",
    "        \n"
   ]
  },
  {
   "cell_type": "code",
   "execution_count": 2,
   "metadata": {},
   "outputs": [
    {
     "output_type": "execute_result",
     "data": {
      "text/plain": [
       "7"
      ]
     },
     "metadata": {},
     "execution_count": 2
    }
   ],
   "source": [
    "x=[1,2,3,4,5,6,7]\n",
    "len(x)"
   ]
  },
  {
   "cell_type": "code",
   "execution_count": 3,
   "metadata": {},
   "outputs": [
    {
     "output_type": "stream",
     "name": "stdout",
     "text": [
      "1\n2\n3\n4\n5\n6\n7\n"
     ]
    }
   ],
   "source": [
    "for i in x:\n",
    "    print(i)"
   ]
  },
  {
   "cell_type": "code",
   "execution_count": 8,
   "metadata": {},
   "outputs": [
    {
     "output_type": "stream",
     "name": "stdout",
     "text": [
      "h\na\nr\ne\nn\nd\nr\na\np\nr\na\nj\na\np\na\nt\ni\n"
     ]
    }
   ],
   "source": [
    "name ='harendraprajapati' #name is itrator here\n",
    "for ch in name :\n",
    "    print(ch)"
   ]
  },
  {
   "cell_type": "code",
   "execution_count": 12,
   "metadata": {},
   "outputs": [
    {
     "output_type": "stream",
     "name": "stdout",
     "text": [
      "i like dog\ni like elephant\ni like cat\ni like mouse\ni like rat\n"
     ]
    }
   ],
   "source": [
    "animals = ['dog','elephant','cat','mouse','rat']\n",
    "for animal in animals:\n",
    "    print(f'i like {animal}')"
   ]
  },
  {
   "cell_type": "code",
   "execution_count": 17,
   "metadata": {},
   "outputs": [
    {
     "output_type": "stream",
     "name": "stdout",
     "text": [
      "1\n1\n1\n2\n4\n8\n3\n9\n27\n4\n16\n64\n5\n25\n125\n6\n36\n216\n7\n49\n343\nthe end\n"
     ]
    }
   ],
   "source": [
    "for i in x:\n",
    "    print(i)\n",
    "    print(i**2)\n",
    "    print(i**3)\n",
    "print('the end')"
   ]
  },
  {
   "cell_type": "code",
   "execution_count": 25,
   "metadata": {},
   "outputs": [
    {
     "output_type": "stream",
     "name": "stdout",
     "text": [
      "2\n4\n6\n"
     ]
    }
   ],
   "source": [
    " for i in x:\n",
    "     if i % 2 == 0:\n",
    "         print(i)"
   ]
  },
  {
   "cell_type": "code",
   "execution_count": 27,
   "metadata": {},
   "outputs": [
    {
     "output_type": "stream",
     "name": "stdout",
     "text": [
      "10 x 1=10\n10 x 2=20\n10 x 3=30\n10 x 4=40\n10 x 5=50\n10 x 6=60\n10 x 7=70\n"
     ]
    }
   ],
   "source": [
    "for i in x:\n",
    "    \n",
    "         print(f'10 x {i}={10*i}')"
   ]
  },
  {
   "source": [
    "## itrators in python"
   ],
   "cell_type": "markdown",
   "metadata": {}
  },
  {
   "source": [
    "- those items that can be looped in pytho\n",
    "- strint\n",
    "- list \n",
    "- tuple\n",
    "- set\n",
    "- dict\n",
    "- range() - used for specifiying the no of times a loop should run\n",
    "_ so on "
   ],
   "cell_type": "markdown",
   "metadata": {}
  },
  {
   "source": [
    "- 'range (stop)' ->give a sequence from 0 ---> stop-1\n",
    "- 'range (start,stop)' ->give a sequence from start ---> stop-1\n",
    "- range (start,stop,gap) ->give a sequence from start ---> stop-1,with a gap b/w values"
   ],
   "cell_type": "markdown",
   "metadata": {}
  },
  {
   "cell_type": "code",
   "execution_count": 28,
   "metadata": {},
   "outputs": [
    {
     "output_type": "stream",
     "name": "stdout",
     "text": [
      "0\n1\n2\n3\n4\n"
     ]
    }
   ],
   "source": [
    "for i in range(5):\n",
    "    \n",
    "         print(i)"
   ]
  },
  {
   "cell_type": "code",
   "execution_count": 29,
   "metadata": {},
   "outputs": [
    {
     "output_type": "stream",
     "name": "stdout",
     "text": [
      "5\n6\n7\n8\n9\n10\n"
     ]
    }
   ],
   "source": [
    "for a in range(5,11):\n",
    "    \n",
    "         print(a)"
   ]
  },
  {
   "cell_type": "code",
   "execution_count": 30,
   "metadata": {},
   "outputs": [
    {
     "output_type": "stream",
     "name": "stdout",
     "text": [
      "1\n3\n5\n7\n9\n"
     ]
    }
   ],
   "source": [
    "for i in range(1,11,2):\n",
    "    \n",
    "         print(i)"
   ]
  },
  {
   "cell_type": "code",
   "execution_count": 34,
   "metadata": {},
   "outputs": [
    {
     "output_type": "stream",
     "name": "stdout",
     "text": [
      ":\n:\n:\n:\n:\n:\n:\n:\n:\n:\n"
     ]
    }
   ],
   "source": [
    "for i in range(10):\n",
    "    \n",
    "         print(':')"
   ]
  },
  {
   "cell_type": "code",
   "execution_count": 33,
   "metadata": {},
   "outputs": [
    {
     "output_type": "stream",
     "name": "stdout",
     "text": [
      "\n:\n::\n:::\n::::\n:::::\n::::::\n:::::::\n::::::::\n:::::::::\n"
     ]
    }
   ],
   "source": [
    "for i in range(10):\n",
    "    \n",
    "         print(':'*i)"
   ]
  },
  {
   "cell_type": "code",
   "execution_count": 35,
   "metadata": {},
   "outputs": [
    {
     "output_type": "stream",
     "name": "stdout",
     "text": [
      "10\n9\n8\n7\n6\n5\n4\n3\n2\n1\n"
     ]
    }
   ],
   "source": [
    "for i in range(10,0,-1):\n",
    "    \n",
    "         print(i)"
   ]
  },
  {
   "cell_type": "code",
   "execution_count": 43,
   "metadata": {},
   "outputs": [
    {
     "output_type": "stream",
     "name": "stdout",
     "text": [
      "-10\n-9\n-8\n-7\n-6\n-5\n-4\n-3\n-2\n-1\n0\n1\n2\n3\n4\n5\n6\n7\n8\n9\n"
     ]
    }
   ],
   "source": [
    "for i in range(-10,10):\n",
    "    print(i)"
   ]
  },
  {
   "cell_type": "code",
   "execution_count": 45,
   "metadata": {},
   "outputs": [
    {
     "output_type": "stream",
     "name": "stdout",
     "text": [
      "\n\n\n\n\n\n\n\n\n\n\n:\n::\n:::\n::::\n:::::\n::::::\n:::::::\n::::::::\n:::::::::\n"
     ]
    }
   ],
   "source": [
    "for i in range(-10,10):\n",
    "    print(':'*i)"
   ]
  },
  {
   "cell_type": "code",
   "execution_count": 46,
   "metadata": {},
   "outputs": [
    {
     "output_type": "stream",
     "name": "stdout",
     "text": [
      "::::::::::\n:::::::::\n::::::::\n:::::::\n::::::\n:::::\n::::\n:::\n::\n:\n"
     ]
    }
   ],
   "source": [
    "for i in range(10,0,-1):\n",
    "    \n",
    "         print(':'*i)"
   ]
  },
  {
   "source": [
    "## break and continue\n",
    "- break => stop loop before its completion based on condition\n",
    "- continue => skip a code execution in loop"
   ],
   "cell_type": "markdown",
   "metadata": {}
  },
  {
   "cell_type": "code",
   "execution_count": 53,
   "metadata": {},
   "outputs": [
    {
     "output_type": "stream",
     "name": "stdout",
     "text": [
      "56\n",
      "77\n",
      "89\n",
      "98\n",
      "the end\n"
     ]
    }
   ],
   "source": [
    "for i in range(10):\n",
    "    num= int(input('enter a value'))\n",
    "    if num>50:\n",
    "        print(num)\n",
    "    else:\n",
    "        break\n",
    "print('the end')"
   ]
  },
  {
   "cell_type": "code",
   "execution_count": 1,
   "metadata": {},
   "outputs": [
    {
     "output_type": "stream",
     "name": "stdout",
     "text": [
      "original 1\nsqare 1\nsqare 1\n----------------------------------------\noriginal 2\nsqare 4\nsqare 8\n----------------------------------------\noriginal 3\nsqare 9\nsqare 27\n----------------------------------------\noriginal 4\nsqare 16\nsqare 64\n----------------------------------------\noriginal 5\nsqare 25\nsqare 125\n----------------------------------------\noriginal 6\nsqare 36\nsqare 216\n----------------------------------------\noriginal 7\nsqare 49\nsqare 343\n----------------------------------------\noriginal 8\nsqare 64\nsqare 512\n----------------------------------------\noriginal 9\nsqare 81\nsqare 729\n----------------------------------------\noriginal 10\nsqare 100\nsqare 1000\n----------------------------------------\n"
     ]
    }
   ],
   "source": [
    "num=[1,2,3,4,5,6,7,8,9,10]\n",
    "for val in num:\n",
    "    if val==0:\n",
    "        continue\n",
    "    print('original',val)\n",
    "    print('sqare',val **2)\n",
    "    print('sqare',val **3 )\n",
    "    print('--'*20)"
   ]
  },
  {
   "source": [
    "## while loop"
   ],
   "cell_type": "markdown",
   "metadata": {}
  },
  {
   "source": [
    "''' while condition:\n",
    "satatement 1\n",
    "satatement 2\n",
    "...\n",
    "satatement n'''\n"
   ],
   "cell_type": "markdown",
   "metadata": {}
  },
  {
   "cell_type": "code",
   "execution_count": null,
   "metadata": {},
   "outputs": [],
   "source": []
  },
  {
   "cell_type": "code",
   "execution_count": null,
   "metadata": {},
   "outputs": [],
   "source": []
  },
  {
   "cell_type": "code",
   "execution_count": 10,
   "metadata": {},
   "outputs": [
    {
     "output_type": "stream",
     "name": "stdout",
     "text": [
      "312839012\n31283901\n3128390\n312839\n31283\n3128\n312\n31\n3\n"
     ]
    }
   ],
   "source": [
    "i = 312839012\n",
    "while i > 0:\n",
    "    print(i)\n",
    "    i=i // 10"
   ]
  },
  {
   "cell_type": "code",
   "execution_count": 19,
   "metadata": {},
   "outputs": [
    {
     "output_type": "stream",
     "name": "stdout",
     "text": [
      "welcome Mr harendra\n"
     ]
    }
   ],
   "source": [
    "while True:\n",
    "    email =input(\"enter e mail address\")\n",
    "    password=input(\"enter password\")\n",
    "    \n",
    "    if email == 'harendra@gmail.com' and password=='12345':\n",
    "        print('welcome Mr harendra')\n",
    "        break\n",
    "    else:\n",
    "         print('try again')"
   ]
  },
  {
   "source": [
    "## calculate"
   ],
   "cell_type": "markdown",
   "metadata": {}
  },
  {
   "cell_type": "code",
   "execution_count": 1,
   "metadata": {
    "tags": []
   },
   "outputs": [
    {
     "output_type": "stream",
     "name": "stdout",
     "text": [
      "Calculator Menu\n",
      "ADD\tSUB\tDIV\tEXIT\n",
      "----------------------------------------\n",
      ">>\n",
      "2+3=5\n",
      "Calculator Menu\n",
      "ADD\tSUB\tDIV\tEXIT\n",
      "----------------------------------------\n",
      ">>\n",
      "cal closed\n"
     ]
    }
   ],
   "source": [
    "while True:\n",
    "    print('Calculator Menu')\n",
    "    print('ADD\\tSUB\\tDIV\\tEXIT')\n",
    "    print('--'*20)\n",
    "    print('>>')\n",
    "    ch=input('select option >>')\n",
    "    if ch.lower()=='add':\n",
    "        x=int(input('enter a:'))\n",
    "        y=int(input('enter b:'))\n",
    "        print(f'{x}+{y}={x+y}')\n",
    "    elif ch.lower()=='sub':\n",
    "        x=int(input('enter a:'))\n",
    "        y=int(input('enter b:'))\n",
    "        print(f'{x}-{y}={x-y}')\n",
    "\n",
    "    elif ch.lower()=='mul':\n",
    "        x=int(input('enter a:'))\n",
    "        y=int(input('enter b:'))\n",
    "        print(f'{x}*{y}={x*y}')\n",
    "\n",
    "    elif ch.lower()=='div':\n",
    "        x=int(input('enter a:'))\n",
    "        y=int(input('enter b:'))\n",
    "        print(f'{x}/{y}={x/y}')\n",
    "    elif ch.lower()=='exit':\n",
    "        print(\"cal closed\")\n",
    "        break"
   ]
  },
  {
   "cell_type": "code",
   "execution_count": 1,
   "metadata": {},
   "outputs": [
    {
     "output_type": "stream",
     "name": "stdout",
     "text": [
      "write your poem\n",
      "your poem is\n",
      "do you \n",
      "know\n",
      "about\n",
      "roolin down\n",
      "\n"
     ]
    }
   ],
   "source": [
    "poem= ''\n",
    "print('write your poem')\n",
    "while True:\n",
    "    lines=input('>>')\n",
    "    if lines:\n",
    "        poem+=lines+'\\n'\n",
    "    else:\n",
    "            break\n",
    "print('your poem is')\n",
    "print(poem)"
   ]
  },
  {
   "source": [
    "## DATA SET'S - String Property\n",
    "\n",
    "- index ,ordered\n",
    "- immutable - don't change during code execution\n",
    "- str( ) - convert data to string datatype\n",
    "- can be wrapped in ' ',\" \",''' ''',\n",
    "- triple quoted string can also be used in documentation\n"
   ],
   "cell_type": "markdown",
   "metadata": {}
  },
  {
   "cell_type": "code",
   "execution_count": 5,
   "metadata": {},
   "outputs": [],
   "source": [
    "flower =\"chrysanthemum\"\n",
    "name = 'vijay deenanath chauhan'\n",
    "quots=''' life before death,\n",
    "hope before despair,\n",
    "journyey before Destination '''"
   ]
  },
  {
   "cell_type": "code",
   "execution_count": 6,
   "metadata": {},
   "outputs": [
    {
     "output_type": "stream",
     "name": "stdout",
     "text": [
      "chrysanthemum\n"
     ]
    }
   ],
   "source": [
    "print(flower)"
   ]
  },
  {
   "cell_type": "code",
   "execution_count": 8,
   "metadata": {},
   "outputs": [
    {
     "output_type": "stream",
     "name": "stdout",
     "text": [
      " life before death,\nhope before despair,\njournyey before Destination \n"
     ]
    }
   ],
   "source": [
    "print(quots)"
   ]
  },
  {
   "cell_type": "code",
   "execution_count": 11,
   "metadata": {},
   "outputs": [],
   "source": [
    "### create ,indexing,slicing,functions\n"
   ]
  },
  {
   "cell_type": "code",
   "execution_count": 12,
   "metadata": {},
   "outputs": [
    {
     "output_type": "execute_result",
     "data": {
      "text/plain": [
       "'c'"
      ]
     },
     "metadata": {},
     "execution_count": 12
    }
   ],
   "source": [
    "flower[0]"
   ]
  },
  {
   "cell_type": "code",
   "execution_count": 13,
   "metadata": {},
   "outputs": [
    {
     "output_type": "execute_result",
     "data": {
      "text/plain": [
       "'m'"
      ]
     },
     "metadata": {},
     "execution_count": 13
    }
   ],
   "source": [
    "flower[-1]"
   ]
  },
  {
   "cell_type": "code",
   "execution_count": 14,
   "metadata": {},
   "outputs": [
    {
     "output_type": "execute_result",
     "data": {
      "text/plain": [
       "'n'"
      ]
     },
     "metadata": {},
     "execution_count": 14
    }
   ],
   "source": [
    "flower[6]"
   ]
  },
  {
   "cell_type": "code",
   "execution_count": 15,
   "metadata": {},
   "outputs": [],
   "source": [
    "name=[6]"
   ]
  },
  {
   "cell_type": "code",
   "execution_count": 16,
   "metadata": {},
   "outputs": [
    {
     "output_type": "stream",
     "name": "stdout",
     "text": [
      "Object `title` not found.\n"
     ]
    }
   ],
   "source": [
    "title?\n"
   ]
  },
  {
   "source": [
    "## slicing "
   ],
   "cell_type": "markdown",
   "metadata": {}
  },
  {
   "cell_type": "code",
   "execution_count": 17,
   "metadata": {},
   "outputs": [
    {
     "output_type": "execute_result",
     "data": {
      "text/plain": [
       "'chrys'"
      ]
     },
     "metadata": {},
     "execution_count": 17
    }
   ],
   "source": [
    "flower[:5]"
   ]
  },
  {
   "cell_type": "code",
   "execution_count": 18,
   "metadata": {},
   "outputs": [
    {
     "output_type": "execute_result",
     "data": {
      "text/plain": [
       "'mum'"
      ]
     },
     "metadata": {},
     "execution_count": 18
    }
   ],
   "source": [
    "flower[-3:]"
   ]
  },
  {
   "cell_type": "code",
   "execution_count": 20,
   "metadata": {},
   "outputs": [
    {
     "output_type": "execute_result",
     "data": {
      "text/plain": [
       "'the'"
      ]
     },
     "metadata": {},
     "execution_count": 20
    }
   ],
   "source": [
    "flower[-6:-3]"
   ]
  },
  {
   "source": [
    "## find functions\n"
   ],
   "cell_type": "markdown",
   "metadata": {}
  },
  {
   "cell_type": "code",
   "execution_count": null,
   "metadata": {},
   "outputs": [],
   "source": [
    "name = 'vijay deenanath chauhan'\n",
    "for i,v in enumerate(name) :\n",
    " print(i,v)\n"
   ]
  },
  {
   "cell_type": "code",
   "execution_count": 27,
   "metadata": {},
   "outputs": [
    {
     "output_type": "execute_result",
     "data": {
      "text/plain": [
       "'the'"
      ]
     },
     "metadata": {},
     "execution_count": 27
    }
   ],
   "source": [
    "flower[-6:-3]\n"
   ]
  },
  {
   "cell_type": "code",
   "execution_count": 29,
   "metadata": {},
   "outputs": [
    {
     "output_type": "execute_result",
     "data": {
      "text/plain": [
       "'vijay'"
      ]
     },
     "metadata": {},
     "execution_count": 29
    }
   ],
   "source": [
    "name[:5]"
   ]
  },
  {
   "cell_type": "code",
   "execution_count": 34,
   "metadata": {},
   "outputs": [
    {
     "output_type": "execute_result",
     "data": {
      "text/plain": [
       "' deenanath'"
      ]
     },
     "metadata": {},
     "execution_count": 34
    }
   ],
   "source": [
    "name[5:15]"
   ]
  },
  {
   "cell_type": "code",
   "execution_count": 35,
   "metadata": {},
   "outputs": [
    {
     "output_type": "execute_result",
     "data": {
      "text/plain": [
       "'\\njournyey before Destination '"
      ]
     },
     "metadata": {},
     "execution_count": 35
    }
   ],
   "source": [
    "quots[40:]"
   ]
  },
  {
   "cell_type": "code",
   "execution_count": 38,
   "metadata": {},
   "outputs": [
    {
     "output_type": "execute_result",
     "data": {
      "text/plain": [
       "'before Destination '"
      ]
     },
     "metadata": {},
     "execution_count": 38
    }
   ],
   "source": [
    "quots[50:]"
   ]
  },
  {
   "source": [
    "## Functions in strig"
   ],
   "cell_type": "markdown",
   "metadata": {}
  },
  {
   "cell_type": "code",
   "execution_count": 5,
   "metadata": {},
   "outputs": [],
   "source": [
    "sentence ='i want to Vijawada to haVe a Holiday.'\n"
   ]
  },
  {
   "cell_type": "code",
   "execution_count": 6,
   "metadata": {},
   "outputs": [
    {
     "output_type": "execute_result",
     "data": {
      "text/plain": [
       "'I WANT TO VIJAWADA TO HAVE A HOLIDAY.'"
      ]
     },
     "metadata": {},
     "execution_count": 6
    }
   ],
   "source": [
    "sentence.upper()"
   ]
  },
  {
   "cell_type": "code",
   "execution_count": 10,
   "metadata": {},
   "outputs": [],
   "source": [
    "senu = sentence.upper()"
   ]
  },
  {
   "cell_type": "code",
   "execution_count": 9,
   "metadata": {},
   "outputs": [],
   "source": [
    "sen1 = sentence.lower()"
   ]
  },
  {
   "cell_type": "code",
   "execution_count": 11,
   "metadata": {},
   "outputs": [],
   "source": [
    "senc = sentence.capitalize()"
   ]
  },
  {
   "cell_type": "code",
   "execution_count": 18,
   "metadata": {},
   "outputs": [],
   "source": [
    "sent1 = sentence.title()"
   ]
  },
  {
   "cell_type": "code",
   "execution_count": 19,
   "metadata": {},
   "outputs": [],
   "source": [
    "sent2 = sentence.casefold()"
   ]
  },
  {
   "cell_type": "code",
   "execution_count": 20,
   "metadata": {},
   "outputs": [],
   "source": [
    "sen3 = sentence.swapcase()"
   ]
  },
  {
   "cell_type": "code",
   "execution_count": 21,
   "metadata": {},
   "outputs": [
    {
     "output_type": "execute_result",
     "data": {
      "text/plain": [
       "37"
      ]
     },
     "metadata": {},
     "execution_count": 21
    }
   ],
   "source": [
    "len(sentence)"
   ]
  },
  {
   "cell_type": "code",
   "execution_count": 22,
   "metadata": {},
   "outputs": [],
   "source": [
    "word='solid'"
   ]
  },
  {
   "cell_type": "code",
   "execution_count": 23,
   "metadata": {},
   "outputs": [
    {
     "output_type": "execute_result",
     "data": {
      "text/plain": [
       "'solid'"
      ]
     },
     "metadata": {},
     "execution_count": 23
    }
   ],
   "source": [
    "word"
   ]
  },
  {
   "cell_type": "code",
   "execution_count": 24,
   "metadata": {},
   "outputs": [
    {
     "output_type": "execute_result",
     "data": {
      "text/plain": [
       "'                                             solid'"
      ]
     },
     "metadata": {},
     "execution_count": 24
    }
   ],
   "source": [
    "word.rjust(50)"
   ]
  },
  {
   "cell_type": "code",
   "execution_count": 25,
   "metadata": {},
   "outputs": [
    {
     "output_type": "execute_result",
     "data": {
      "text/plain": [
       "'solid                                             '"
      ]
     },
     "metadata": {},
     "execution_count": 25
    }
   ],
   "source": [
    "word.ljust(50)"
   ]
  },
  {
   "cell_type": "code",
   "execution_count": 33,
   "metadata": {},
   "outputs": [
    {
     "output_type": "execute_result",
     "data": {
      "text/plain": [
       "'                                          solid                                           '"
      ]
     },
     "metadata": {},
     "execution_count": 33
    }
   ],
   "source": [
    "word.center(90)"
   ]
  },
  {
   "cell_type": "code",
   "execution_count": 38,
   "metadata": {},
   "outputs": [
    {
     "output_type": "stream",
     "name": "stdout",
     "text": [
      "o\nooo\nooooo\nooooooo\nooooooooo\nooooooooooo\nooooooooooooo\n"
     ]
    }
   ],
   "source": [
    "for i in range(1,15,2):\n",
    "    print('o' * i)"
   ]
  },
  {
   "cell_type": "code",
   "execution_count": 39,
   "metadata": {},
   "outputs": [
    {
     "output_type": "stream",
     "name": "stdout",
     "text": [
      "              o\n            ooo\n          ooooo\n        ooooooo\n      ooooooooo\n    ooooooooooo\n  ooooooooooooo\n"
     ]
    }
   ],
   "source": [
    "for i in range(1,15,2):\n",
    "    print(('o' * i).rjust(15))"
   ]
  },
  {
   "cell_type": "code",
   "execution_count": 40,
   "metadata": {},
   "outputs": [
    {
     "output_type": "stream",
     "name": "stdout",
     "text": [
      "       o       \n      ooo      \n     ooooo     \n    ooooooo    \n   ooooooooo   \n  ooooooooooo  \n ooooooooooooo \n"
     ]
    }
   ],
   "source": [
    "for i in range(1,15,2):\n",
    "    print(('o' * i).center(15))"
   ]
  },
  {
   "cell_type": "code",
   "execution_count": 43,
   "metadata": {},
   "outputs": [
    {
     "output_type": "stream",
     "name": "stdout",
     "text": [
      "ooooooooooooooo\n ooooooooooooo \n  ooooooooooo  \n   ooooooooo   \n    ooooooo    \n     ooooo     \n      ooo      \n       o       \n"
     ]
    }
   ],
   "source": [
    "for i in range(15,0,-2):\n",
    "    print(('o' * i).center(15))\n"
   ]
  },
  {
   "cell_type": "code",
   "execution_count": 44,
   "metadata": {},
   "outputs": [
    {
     "output_type": "stream",
     "name": "stdout",
     "text": [
      "       o       \n      ooo      \n     ooooo     \n    ooooooo    \n   ooooooooo   \n  ooooooooooo  \n ooooooooooooo \nooooooooooooooo\n ooooooooooooo \n  ooooooooooo  \n   ooooooooo   \n    ooooooo    \n     ooooo     \n      ooo      \n       o       \n"
     ]
    }
   ],
   "source": [
    "for i in range(1,15,2):\n",
    "    print(('o' * i).center(15))\n",
    "\n",
    "for i in range(15,0,-2):\n",
    "    print(('o' * i).center(15))"
   ]
  },
  {
   "cell_type": "code",
   "execution_count": 45,
   "metadata": {},
   "outputs": [
    {
     "output_type": "stream",
     "name": "stdout",
     "text": [
      "ooooooooooooooo\n ooooooooooooo \n  ooooooooooo  \n   ooooooooo   \n    ooooooo    \n     ooooo     \n      ooo      \n       o       \n       o       \n      ooo      \n     ooooo     \n    ooooooo    \n   ooooooooo   \n  ooooooooooo  \n ooooooooooooo \n"
     ]
    }
   ],
   "source": [
    "for i in range(15,0,-2):\n",
    "    print(('o' * i).center(15))\n",
    "\n",
    "for i in range(1,15,2):\n",
    "    print(('o' * i).center(15))"
   ]
  },
  {
   "cell_type": "code",
   "execution_count": 46,
   "metadata": {},
   "outputs": [
    {
     "output_type": "execute_result",
     "data": {
      "text/plain": [
       "False"
      ]
     },
     "metadata": {},
     "execution_count": 46
    }
   ],
   "source": [
    "word.isnumeric()\n"
   ]
  },
  {
   "cell_type": "code",
   "execution_count": 48,
   "metadata": {},
   "outputs": [
    {
     "output_type": "execute_result",
     "data": {
      "text/plain": [
       "True"
      ]
     },
     "metadata": {},
     "execution_count": 48
    }
   ],
   "source": [
    "s=\"20\"\n",
    "s.isnumeric()"
   ]
  },
  {
   "cell_type": "code",
   "execution_count": 50,
   "metadata": {},
   "outputs": [
    {
     "output_type": "stream",
     "name": "stdout",
     "text": [
      "wrong input\n"
     ]
    }
   ],
   "source": [
    "x =input(\"enter the number\")\n",
    "if x.isnumeric():\n",
    "    print('correct')\n",
    "    x=int(x)\n",
    "else:\n",
    "    print('wrong input')"
   ]
  },
  {
   "source": [
    "## important Functions"
   ],
   "cell_type": "markdown",
   "metadata": {}
  },
  {
   "cell_type": "code",
   "execution_count": 55,
   "metadata": {},
   "outputs": [],
   "source": [
    "quots='life before death,hope before despire,journy before dewstination'\n",
    "\n",
    "words = quots.split()"
   ]
  },
  {
   "cell_type": "code",
   "execution_count": 57,
   "metadata": {},
   "outputs": [
    {
     "output_type": "stream",
     "name": "stdout",
     "text": [
      "['life', 'before', 'death,hope', 'before', 'despire,journy', 'before', 'dewstination']\n"
     ]
    }
   ],
   "source": [
    "print(words)"
   ]
  },
  {
   "cell_type": "code",
   "execution_count": 58,
   "metadata": {},
   "outputs": [
    {
     "output_type": "execute_result",
     "data": {
      "text/plain": [
       "5"
      ]
     },
     "metadata": {},
     "execution_count": 58
    }
   ],
   "source": [
    "len(word)"
   ]
  },
  {
   "cell_type": "code",
   "execution_count": 59,
   "metadata": {},
   "outputs": [
    {
     "output_type": "execute_result",
     "data": {
      "text/plain": [
       "['life before death', 'hope before despire', 'journy before dewstination']"
      ]
     },
     "metadata": {},
     "execution_count": 59
    }
   ],
   "source": [
    "quots.split(',')"
   ]
  },
  {
   "cell_type": "code",
   "execution_count": 62,
   "metadata": {},
   "outputs": [
    {
     "output_type": "execute_result",
     "data": {
      "text/plain": [
       "['life ', ' death,hope ', ' despire,journy ', ' dewstination']"
      ]
     },
     "metadata": {},
     "execution_count": 62
    }
   ],
   "source": [
    "quots.split('before')"
   ]
  },
  {
   "cell_type": "code",
   "execution_count": 63,
   "metadata": {},
   "outputs": [],
   "source": [
    "wiki='''Article rewriting deals with the taking in information and expressing it in a new way. And that requires a comprehensive vocabulary, research, time and hard work.Rewriting content may take hours if done manually. Well, the time is not the leisure we have these days. Working hard certainly pays off but it costs a hefty amount of time, and the production of content becomes lesser. For example, if you are using a paraphrasing tool to rewrite an essay or an article, first you have to read that content thoroughly. Then find the suitable words to replace the original content while keeping the integrity of the topic. For that, you will have to possess a well-established vocabulary and a large amount of free time at your hand. So, the people who are incredibly loose may indulge in this activity, but those who have limited resources at their hands may find rewriting a burdensome job.'''"
   ]
  },
  {
   "cell_type": "code",
   "execution_count": 67,
   "metadata": {},
   "outputs": [
    {
     "output_type": "stream",
     "name": "stdout",
     "text": [
      "Article 7\nrewriting 9\ndeals 5\nwith 4\nthe 3\ntaking 6\nin 2\ninformation 11\nand 3\nexpressing 10\nit 2\nin 2\na 1\nnew 3\nway. 4\nAnd 3\nthat 4\nrequires 8\na 1\ncomprehensive 13\nvocabulary, 11\nresearch, 9\ntime 4\nand 3\nhard 4\nwork. 5\nRewriting 9\ncontent 7\nmay 3\ntake 4\nhours 5\nif 2\ndone 4\nmanually. 9\nWell, 5\nthe 3\ntime 4\nis 2\nnot 3\nthe 3\nleisure 7\nwe 2\nhave 4\nthese 5\ndays. 5\nWorking 7\nhard 4\ncertainly 9\npays 4\noff 3\nbut 3\nit 2\ncosts 5\na 1\nhefty 5\namount 6\nof 2\ntime, 5\nand 3\nthe 3\nproduction 10\nof 2\ncontent 7\nbecomes 7\nlesser. 7\nFor 3\nexample, 8\nif 2\nyou 3\nare 3\nusing 5\na 1\nparaphrasing 12\ntool 4\nto 2\nrewrite 7\nan 2\nessay 5\nor 2\nan 2\narticle, 8\nfirst 5\nyou 3\nhave 4\nto 2\nread 4\nthat 4\ncontent 7\nthoroughly. 11\nThen 4\nfind 4\nthe 3\nsuitable 8\nwords 5\nto 2\nreplace 7\nthe 3\noriginal 8\ncontent 7\nwhile 5\nkeeping 7\nthe 3\nintegrity 9\nof 2\nthe 3\ntopic. 6\nFor 3\nthat, 5\nyou 3\nwill 4\nhave 4\nto 2\npossess 7\na 1\nwell-established 16\nvocabulary 10\nand 3\na 1\nlarge 5\namount 6\nof 2\nfree 4\ntime 4\nat 2\nyour 4\nhand. 5\nSo, 3\nthe 3\npeople 6\nwho 3\nare 3\nincredibly 10\nloose 5\nmay 3\nindulge 7\nin 2\nthis 4\nactivity, 9\nbut 3\nthose 5\nwho 3\nhave 4\nlimited 7\nresources 9\nat 2\ntheir 5\nhands 5\nmay 3\nfind 4\nrewriting 9\na 1\nburdensome 10\njob. 4\n"
     ]
    }
   ],
   "source": [
    "for word in wiki.split():\n",
    "    print(word,len(word))"
   ]
  },
  {
   "cell_type": "code",
   "execution_count": 69,
   "metadata": {},
   "outputs": [
    {
     "output_type": "stream",
     "name": "stdout",
     "text": [
      "well-established 16\n"
     ]
    }
   ],
   "source": [
    "largest=''\n",
    "for word in wiki.split():\n",
    "    if len(largest) < len(word):\n",
    "        largest = word\n",
    "print(largest,len(largest))"
   ]
  },
  {
   "cell_type": "code",
   "execution_count": 70,
   "metadata": {},
   "outputs": [
    {
     "output_type": "execute_result",
     "data": {
      "text/plain": [
       "' Article rewriting deels with the teking in informetion end expressing it in e new wey. And thet requires e comprehensive vocebulery, reseerch, time end herd work.\\n\\nRewriting content mey teke hours if done menuelly. Well, the time is not the leisure we heve these deys. Working herd certeinly peys off but it costs e hefty emount of time, end the production of content becomes lesser. For exemple, if you ere using e perephresing tool to rewrite en essey or en erticle, first you heve to reed thet content thoroughly. Then find the suiteble words to replece the originel content while keeping the integrity of the topic. For thet, you will heve to possess e well-esteblished vocebulery end e lerge emount of free time et your hend. So, the people who ere incredibly loose mey indulge in this ectivity, but those who heve limited resources et their hends mey find rewriting e burdensome job.'"
      ]
     },
     "metadata": {},
     "execution_count": 70
    }
   ],
   "source": [
    "wiki.replace('a','e')"
   ]
  },
  {
   "cell_type": "code",
   "execution_count": 71,
   "metadata": {},
   "outputs": [
    {
     "output_type": "execute_result",
     "data": {
      "text/plain": [
       "' Article rewriting deals with the taking in informatiohh and expressing it in a new way. And that requires a comprehensive vocabulary, research, time and hard work.\\n\\nRewriting cohhtent may take hours if dohhe manually. Well, the time is not the leisure we have these days. Working hard certainly pays off but it costs a hefty amount of time, and the productiohh of cohhtent becomes lesser. For example, if you are using a paraphrasing tool to rewrite an essay or an article, first you have to read that cohhtent thoroughly. Then find the suitable words to replace the original cohhtent while keeping the integrity of the topic. For that, you will have to possess a well-established vocabulary and a large amount of free time at your hand. So, the people who are incredibly loose may indulge in this activity, but those who have limited resources at their hands may find rewriting a burdensome job.'"
      ]
     },
     "metadata": {},
     "execution_count": 71
    }
   ],
   "source": [
    "wiki.replace('on','ohh')"
   ]
  },
  {
   "cell_type": "code",
   "execution_count": 73,
   "metadata": {},
   "outputs": [
    {
     "output_type": "execute_result",
     "data": {
      "text/plain": [
       "' ediots rewriting deals with the taking in information and expressing it in a new way. And that requires a comprehensive vocabulary, research, time and hard work.\\n\\nRewriting content may take hours if done manually. Well, the time is not the leisure we have these days. Working hard certainly pays off but it costs a hefty amount of time, and the production of content becomes lesser. For example, if you are using a paraphrasing tool to rewrite an essay or an article, first you have to read that content thoroughly. Then find the suitable words to replace the original content while keeping the integrity of the topic. For that, you will have to possess a well-established vocabulary and a large amount of free time at your hand. So, the people who are incredibly loose may indulge in this activity, but those who have limited resources at their hands may find rewriting a burdensome job.'"
      ]
     },
     "metadata": {},
     "execution_count": 73
    }
   ],
   "source": [
    "wiki.replace('Article','ediots')"
   ]
  },
  {
   "cell_type": "code",
   "execution_count": 75,
   "metadata": {},
   "outputs": [
    {
     "output_type": "execute_result",
     "data": {
      "text/plain": [
       "' Article rewriting deels with out teking in informetion end expressing it in e new wey. And outt requires e comprehensive vocebulery, reseerch, time end herd work.\\n\\nRewriting content mey teke hours if done menuelly. Well, out time is not out leisure we heve outse deys. Working herd certeinly peys off but it costs e hefty emount of time, end out production of content becomes lesser. For exemple, if you ere using e perephresing tool to rewrite en essey or en erticle, first you heve to reed outt content thoroughly. Then find out suiteble words to replece out originel content while keeping out integrity of out topic. For outt, you will heve to possess e well-esteblished vocebulery end e lerge emount of free time et your hend. So, out people who ere incredibly loose mey indulge in this ectivity, but those who heve limited resources et outir hends mey find rewriting e burdensome job.'"
      ]
     },
     "metadata": {},
     "execution_count": 75
    }
   ],
   "source": [
    "wiki.replace('a','e').replace('the','out')"
   ]
  },
  {
   "cell_type": "code",
   "execution_count": 85,
   "metadata": {},
   "outputs": [
    {
     "output_type": "execute_result",
     "data": {
      "text/plain": [
       "' Article rewriting deals with the taking in information and expressing it in a new way. And that requires a comprehensive vocabulary, research, time and hard work.\\n\\nRewriting content may take hours if done manually. Well, the time is not the leisure we have these days. Working hard certainly pays off but it costs a hefty amount of time, and the production of content becomes lesser. For example, if you are using a paraphrasing tool to rewrite an essay or an article, first you have to read that content thoroughly. Then find the suitable words to replace the original content while keeping the integrity of the topic. For that, you will have to possess a well-established vocabulary and a large amount of free time at your hand. So, the people who are incredibly loose may indulge in this activity, but those who have limited resources at their hands may find rewriting a burdensome job.'"
      ]
     },
     "metadata": {},
     "execution_count": 85
    }
   ],
   "source": [
    "newwiki = wiki.replace('deels','ramukaka')\n",
    "\n",
    "newwiki"
   ]
  },
  {
   "cell_type": "code",
   "execution_count": 1,
   "metadata": {},
   "outputs": [
    {
     "output_type": "stream",
     "name": "stdout",
     "text": [
      "harendra prajati\n"
     ]
    }
   ],
   "source": [
    "print('harendra prajati')"
   ]
  },
  {
   "source": [
    "# EXCERCISE"
   ],
   "cell_type": "markdown",
   "metadata": {}
  },
  {
   "source": [
    "## it is lavel2 heading"
   ],
   "cell_type": "markdown",
   "metadata": {}
  },
  {
   "source": [
    "### it is level 3 heading \n"
   ],
   "cell_type": "markdown",
   "metadata": {}
  },
  {
   "cell_type": "code",
   "execution_count": 1,
   "metadata": {},
   "outputs": [
    {
     "output_type": "stream",
     "name": "stdout",
     "text": [
      "hi i am john doe\n"
     ]
    }
   ],
   "source": [
    "print('hi i am john doe')"
   ]
  },
  {
   "cell_type": "code",
   "execution_count": 2,
   "metadata": {},
   "outputs": [
    {
     "output_type": "stream",
     "name": "stdout",
     "text": [
      "push kaise kare\n"
     ]
    }
   ],
   "source": [
    "print(\"push kaise kare\")"
   ]
  },
  {
   "cell_type": "code",
   "execution_count": 4,
   "metadata": {},
   "outputs": [
    {
     "output_type": "stream",
     "name": "stdout",
     "text": [
      "pop kaise kare\n"
     ]
    }
   ],
   "source": [
    "print ('pop kaise kare')"
   ]
  },
  {
   "cell_type": "code",
   "execution_count": 5,
   "metadata": {},
   "outputs": [
    {
     "output_type": "execute_result",
     "data": {
      "text/plain": [
       "'haS'"
      ]
     },
     "metadata": {},
     "execution_count": 5
    }
   ],
   "source": [
    " \"haS\""
   ]
  },
  {
   "cell_type": "code",
   "execution_count": 2,
   "metadata": {},
   "outputs": [
    {
     "output_type": "stream",
     "name": "stdout",
     "text": [
      "\t harendra prajapati want to send code on juptier\n"
     ]
    }
   ],
   "source": [
    "print (\"\\t harendra prajapati want to send code on juptier\")\n"
   ]
  },
  {
   "source": [
    "# Self Practice\n",
    "- comments\n"
   ],
   "cell_type": "markdown",
   "metadata": {}
  },
  {
   "cell_type": "code",
   "execution_count": 29,
   "metadata": {},
   "outputs": [
    {
     "output_type": "stream",
     "name": "stdout",
     "text": [
      "study hub tutoril\n"
     ]
    }
   ],
   "source": [
    "#this is single line comment\n",
    "print('study hub tutoril')   #this is also a single line comment "
   ]
  },
  {
   "source": [
    "- multiline comments"
   ],
   "cell_type": "markdown",
   "metadata": {}
  },
  {
   "cell_type": "code",
   "execution_count": 36,
   "metadata": {},
   "outputs": [
    {
     "output_type": "stream",
     "name": "stdout",
     "text": [
      "hello harendra\n"
     ]
    }
   ],
   "source": [
    "\"\"\"\n",
    "This is a comment\n",
    "written in\n",
    "more than just one line\n",
    "\"\"\"\n",
    "print('hello harendra') \n"
   ]
  },
  {
   "cell_type": "code",
   "execution_count": 27,
   "metadata": {},
   "outputs": [
    {
     "output_type": "stream",
     "name": "stdout",
     "text": [
      "3 is greater than 5\n7 is less than 5\n"
     ]
    }
   ],
   "source": [
    "i=5\n",
    "if i>3:\n",
    "    print('3 is greater than 5') #if you dont give whitespaces then it wii give you indation error\n",
    "else :\n",
    "        print('3 is less than 5')\n",
    "\n",
    "if i<7:\n",
    "    print('7 is less than 5')\n",
    "else:\n",
    "        print('7 is greater than 5')"
   ]
  },
  {
   "source": [
    "- varriables"
   ],
   "cell_type": "markdown",
   "metadata": {}
  },
  {
   "cell_type": "code",
   "execution_count": 43,
   "metadata": {},
   "outputs": [],
   "source": [
    "x=5\n",
    "x=\"harendra\""
   ]
  },
  {
   "cell_type": "code",
   "execution_count": 42,
   "metadata": {},
   "outputs": [
    {
     "output_type": "stream",
     "name": "stdout",
     "text": [
      "5\n"
     ]
    }
   ],
   "source": [
    "print(x)"
   ]
  },
  {
   "source": [
    "- type casting"
   ],
   "cell_type": "markdown",
   "metadata": {}
  },
  {
   "cell_type": "code",
   "execution_count": 46,
   "metadata": {},
   "outputs": [],
   "source": [
    "a=int(19)\n",
    "b= str(\"harendra\")\n",
    "c=float(20)\n"
   ]
  },
  {
   "cell_type": "code",
   "execution_count": 47,
   "metadata": {},
   "outputs": [
    {
     "output_type": "stream",
     "name": "stdout",
     "text": [
      "19 harendra 20.0\n"
     ]
    }
   ],
   "source": [
    "print(a,b,c)"
   ]
  },
  {
   "cell_type": "code",
   "execution_count": 48,
   "metadata": {},
   "outputs": [
    {
     "output_type": "stream",
     "name": "stdout",
     "text": [
      "<class 'int'>\n"
     ]
    }
   ],
   "source": [
    "print(type(a))"
   ]
  },
  {
   "cell_type": "code",
   "execution_count": 49,
   "metadata": {},
   "outputs": [
    {
     "output_type": "stream",
     "name": "stdout",
     "text": [
      "<class 'str'>\n"
     ]
    }
   ],
   "source": [
    "print(type(b))"
   ]
  },
  {
   "cell_type": "code",
   "execution_count": 50,
   "metadata": {},
   "outputs": [
    {
     "output_type": "stream",
     "name": "stdout",
     "text": [
      "<class 'float'>\n"
     ]
    }
   ],
   "source": [
    "print(type(c))"
   ]
  },
  {
   "source": [
    "### python varriables "
   ],
   "cell_type": "markdown",
   "metadata": {}
  },
  {
   "cell_type": "code",
   "execution_count": 52,
   "metadata": {},
   "outputs": [],
   "source": [
    "a,b,c = \"harendra\",\"prajapati\",\"azamgarh\""
   ]
  },
  {
   "cell_type": "code",
   "execution_count": 53,
   "metadata": {},
   "outputs": [
    {
     "output_type": "stream",
     "name": "stdout",
     "text": [
      "harendra prajapati azamgarh\n"
     ]
    }
   ],
   "source": [
    "print(a,b,c)"
   ]
  },
  {
   "source": [
    "# webcam use "
   ],
   "cell_type": "markdown",
   "metadata": {}
  },
  {
   "cell_type": "code",
   "execution_count": 1,
   "metadata": {},
   "outputs": [],
   "source": []
  },
  {
   "cell_type": "code",
   "execution_count": 3,
   "metadata": {},
   "outputs": [
    {
     "output_type": "stream",
     "name": "stdout",
     "text": [
      "[2, 4, 6, 8, 10, 12, 14, 16, 18, 20, 22, 24, 26, 28, 30, 32, 34, 36, 38, 40, 42, 44, 46, 48, 50, 52, 54, 56, 58, 60, 62, 64, 66, 68, 70, 72, 74, 76, 78, 80, 82, 84, 86, 88, 90, 92, 94, 96, 98, 100, 102, 104, 106, 108, 110, 112, 114, 116, 118, 120, 122, 124, 126, 128, 130, 132, 134, 136, 138, 140, 142, 144, 146, 148, 150, 152, 154, 156, 158, 160, 162, 164, 166, 168, 170, 172, 174, 176, 178, 180, 182, 184, 186, 188, 190, 192, 194, 196, 198, 200]\n"
     ]
    }
   ],
   "source": []
  },
  {
   "cell_type": "code",
   "execution_count": null,
   "metadata": {},
   "outputs": [],
   "source": []
  }
 ]
}