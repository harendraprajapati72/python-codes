{
 "metadata": {
  "language_info": {
   "codemirror_mode": {
    "name": "ipython",
    "version": 3
   },
   "file_extension": ".py",
   "mimetype": "text/x-python",
   "name": "python",
   "nbconvert_exporter": "python",
   "pygments_lexer": "ipython3",
   "version": "3.9.1-final"
  },
  "orig_nbformat": 2,
  "kernelspec": {
   "name": "python3",
   "display_name": "Python 3.9.1 64-bit",
   "metadata": {
    "interpreter": {
     "hash": "aee8b7b246df8f9039afb4144a1f6fd8d2ca17a180786b69acc140d282b71a49"
    }
   }
  }
 },
 "nbformat": 4,
 "nbformat_minor": 2,
 "cells": [
  {
   "source": [
    "# WAP to store 10 the movies entered by the user in a  list "
   ],
   "cell_type": "markdown",
   "metadata": {}
  },
  {
   "cell_type": "code",
   "execution_count": null,
   "metadata": {},
   "outputs": [],
   "source": [
    "movies=[]\n",
    "for i in range(10):\n",
    "    name=input('enter the movie name =>')\n",
    "    movies.append(name)"
   ]
  },
  {
   "cell_type": "code",
   "execution_count": null,
   "metadata": {},
   "outputs": [],
   "source": [
    "print(movies)"
   ]
  },
  {
   "cell_type": "code",
   "execution_count": null,
   "metadata": {},
   "outputs": [],
   "source": [
    "movies"
   ]
  },
  {
   "source": [
    "# WAP to store 100 even numbers in the list"
   ],
   "cell_type": "markdown",
   "metadata": {}
  },
  {
   "cell_type": "code",
   "execution_count": null,
   "metadata": {},
   "outputs": [],
   "source": [
    "even=list(range(2,202,2))"
   ]
  },
  {
   "cell_type": "code",
   "execution_count": null,
   "metadata": {},
   "outputs": [],
   "source": [
    "print(even)"
   ]
  },
  {
   "source": [
    "# wap to print all the odd numbers in the list given below\n"
   ],
   "cell_type": "markdown",
   "metadata": {}
  },
  {
   "cell_type": "code",
   "execution_count": null,
   "metadata": {},
   "outputs": [],
   "source": [
    "a=[12,3,54,32,6,7,8,879,34,23,2,4,31]"
   ]
  },
  {
   "cell_type": "code",
   "execution_count": null,
   "metadata": {},
   "outputs": [],
   "source": [
    "for i in a:\n",
    "    if i%2!=0:\n",
    "        print(i)"
   ]
  },
  {
   "source": [
    "# wap to store all the odd numbers into a new list from the list given below"
   ],
   "cell_type": "markdown",
   "metadata": {}
  },
  {
   "cell_type": "code",
   "execution_count": null,
   "metadata": {},
   "outputs": [],
   "source": [
    "sto=[]\n",
    "a=[12,3,54,32,6,7,8,879,34,23,2,4,31]\n",
    "\n",
    "for i in a:\n",
    "    if i%2!=0:\n",
    "        sto.append(i)\n",
    "\n",
    "         \n"
   ]
  },
  {
   "cell_type": "code",
   "execution_count": null,
   "metadata": {},
   "outputs": [],
   "source": [
    "sto"
   ]
  },
  {
   "source": [
    "# wap to store 10 prime numbers "
   ],
   "cell_type": "markdown",
   "metadata": {}
  },
  {
   "cell_type": "code",
   "execution_count": null,
   "metadata": {},
   "outputs": [],
   "source": [
    "num =91203\n",
    "for i in range(2,num):\n",
    "    if num %i==0:\n",
    "        print('not prime')\n",
    "        break\n",
    "else:\n",
    "    print(f'{num} is prime ')"
   ]
  },
  {
   "cell_type": "code",
   "execution_count": 18,
   "metadata": {},
   "outputs": [
    {
     "output_type": "stream",
     "name": "stdout",
     "text": [
      "[] 0 2\n[2] 1 3\n[2, 3] 2 4\n[2, 3] 2 5\n[2, 3, 5] 3 6\n[2, 3, 5] 3 7\n[2, 3, 5, 7] 4 8\n[2, 3, 5, 7] 4 9\n[2, 3, 5, 7] 4 10\n[2, 3, 5, 7] 4 11\n[2, 3, 5, 7, 11] 5 12\n[2, 3, 5, 7, 11] 5 13\n[2, 3, 5, 7, 11, 13] 6 14\n[2, 3, 5, 7, 11, 13] 6 15\n[2, 3, 5, 7, 11, 13] 6 16\n[2, 3, 5, 7, 11, 13] 6 17\n[2, 3, 5, 7, 11, 13, 17] 7 18\n[2, 3, 5, 7, 11, 13, 17] 7 19\n[2, 3, 5, 7, 11, 13, 17, 19] 8 20\n[2, 3, 5, 7, 11, 13, 17, 19] 8 21\n[2, 3, 5, 7, 11, 13, 17, 19] 8 22\n[2, 3, 5, 7, 11, 13, 17, 19] 8 23\n[2, 3, 5, 7, 11, 13, 17, 19, 23] 9 24\n[2, 3, 5, 7, 11, 13, 17, 19, 23] 9 25\n[2, 3, 5, 7, 11, 13, 17, 19, 23] 9 26\n[2, 3, 5, 7, 11, 13, 17, 19, 23] 9 27\n[2, 3, 5, 7, 11, 13, 17, 19, 23] 9 28\n[2, 3, 5, 7, 11, 13, 17, 19, 23] 9 29\n"
     ]
    }
   ],
   "source": [
    "primes=[]                                    #blank list\n",
    "num=2                                         #start pos\n",
    "while len(primes) < 10:\n",
    "    print(primes,len(primes),num)                           \n",
    "    for i in range(2,num):\n",
    "        if num%i == 0:\n",
    "            break\n",
    "    else:\n",
    "        primes.append(num)\n",
    "    num += 1\n",
    "    "
   ]
  },
  {
   "cell_type": "code",
   "execution_count": 19,
   "metadata": {},
   "outputs": [
    {
     "output_type": "execute_result",
     "data": {
      "text/plain": [
       "[2, 3, 5, 7, 11, 13, 17, 19, 23, 29]"
      ]
     },
     "metadata": {},
     "execution_count": 19
    }
   ],
   "source": [
    "primes"
   ]
  },
  {
   "source": [
    "# f"
   ],
   "cell_type": "markdown",
   "metadata": {}
  },
  {
   "cell_type": "code",
   "execution_count": 20,
   "metadata": {},
   "outputs": [],
   "source": [
    "flowers=['sunflower','rose','iris',\"lily\",'lotus',]"
   ]
  },
  {
   "cell_type": "code",
   "execution_count": 24,
   "metadata": {},
   "outputs": [
    {
     "output_type": "stream",
     "name": "stdout",
     "text": [
      "sunflower\nrose\nlotus\n"
     ]
    }
   ],
   "source": [
    "flo=[]\n",
    "for item in flowers:\n",
    "    if 'o' in item:\n",
    "        print(item)\n",
    "        flo.append(item)"
   ]
  },
  {
   "cell_type": "code",
   "execution_count": 25,
   "metadata": {},
   "outputs": [
    {
     "output_type": "stream",
     "name": "stdout",
     "text": [
      "['sunflower', 'rose', 'lotus']\n"
     ]
    }
   ],
   "source": [
    "print(flo)"
   ]
  },
  {
   "cell_type": "code",
   "execution_count": 26,
   "metadata": {},
   "outputs": [
    {
     "output_type": "execute_result",
     "data": {
      "text/plain": [
       "['sunflower', 'rose']"
      ]
     },
     "metadata": {},
     "execution_count": 26
    }
   ],
   "source": [
    "flowers_e=[item for item in flowers if 'e' in item]\n",
    "flowers_e"
   ]
  },
  {
   "cell_type": "code",
   "execution_count": 27,
   "metadata": {},
   "outputs": [],
   "source": [
    "x=[2,3,4,5,6]"
   ]
  },
  {
   "cell_type": "code",
   "execution_count": 29,
   "metadata": {},
   "outputs": [
    {
     "output_type": "stream",
     "name": "stdout",
     "text": [
      "[4]\n[4, 9]\n[4, 9, 16]\n[4, 9, 16, 25]\n[4, 9, 16, 25, 36]\n"
     ]
    }
   ],
   "source": [
    "x2=[]\n",
    "for i in x:\n",
    "    sqr=i**2\n",
    "    x2.append(sqr)\n",
    "    print(x2)\n"
   ]
  },
  {
   "cell_type": "code",
   "execution_count": 33,
   "metadata": {},
   "outputs": [
    {
     "output_type": "execute_result",
     "data": {
      "text/plain": [
       "[8, 27, 64, 125, 216]"
      ]
     },
     "metadata": {},
     "execution_count": 33
    }
   ],
   "source": [
    "x3=[i**3 for i in x]\n",
    "x3"
   ]
  },
  {
   "cell_type": "code",
   "execution_count": 34,
   "metadata": {},
   "outputs": [
    {
     "output_type": "execute_result",
     "data": {
      "text/plain": [
       "[16, 81, 256, 625, 1296]"
      ]
     },
     "metadata": {},
     "execution_count": 34
    }
   ],
   "source": [
    "x4=[i**4 for i in x]\n",
    "x4"
   ]
  },
  {
   "cell_type": "code",
   "execution_count": 35,
   "metadata": {},
   "outputs": [
    {
     "output_type": "execute_result",
     "data": {
      "text/plain": [
       "[32, 243, 1024, 3125, 7776]"
      ]
     },
     "metadata": {},
     "execution_count": 35
    }
   ],
   "source": [
    "x5=[i**5 for i in x]\n",
    "x5"
   ]
  },
  {
   "cell_type": "code",
   "execution_count": null,
   "metadata": {},
   "outputs": [],
   "source": []
  }
 ]
}