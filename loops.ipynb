{
 "metadata": {
  "language_info": {
   "codemirror_mode": {
    "name": "ipython",
    "version": 3
   },
   "file_extension": ".py",
   "mimetype": "text/x-python",
   "name": "python",
   "nbconvert_exporter": "python",
   "pygments_lexer": "ipython3",
   "version": "3.9.1-final"
  },
  "orig_nbformat": 2,
  "kernelspec": {
   "name": "python39164bitadb80820a1f748159be7dfc66089a8f3",
   "display_name": "Python 3.9.1 64-bit",
   "language": "python"
  }
 },
 "nbformat": 4,
 "nbformat_minor": 2,
 "cells": [
  {
   "source": [
    "- step based loop\n",
    "    - for\n",
    "- condition based loop\n",
    "    - while"
   ],
   "cell_type": "markdown",
   "metadata": {}
  },
  {
   "source": [
    "```\n",
    "for temp_var in iterable:\n",
    "    statement 1\n",
    "    statement 2\n",
    "    ...\n",
    "    statement n\n",
    "```"
   ],
   "cell_type": "markdown",
   "metadata": {}
  },
  {
   "cell_type": "code",
   "execution_count": null,
   "metadata": {},
   "outputs": [],
   "source": [
    "x = [1,2,3,4,5,6,7]\n",
    "len(x)"
   ]
  },
  {
   "cell_type": "code",
   "execution_count": null,
   "metadata": {},
   "outputs": [],
   "source": [
    "for i in x:\n",
    "    print(i)"
   ]
  },
  {
   "cell_type": "code",
   "execution_count": 1,
   "metadata": {},
   "outputs": [
    {
     "output_type": "stream",
     "name": "stdout",
     "text": [
      "W\ni\nl\nl\ni\na\nm\n"
     ]
    }
   ],
   "source": [
    "name = 'William'\n",
    "for ch in name:\n",
    "    print(ch)"
   ]
  },
  {
   "cell_type": "code",
   "execution_count": null,
   "metadata": {},
   "outputs": [],
   "source": [
    "animals = ['tiger','cat','dog','lion','elephant','cow']\n",
    "for animal in animals:\n",
    "    print(f'i like {animal}')"
   ]
  },
  {
   "cell_type": "code",
   "execution_count": null,
   "metadata": {},
   "outputs": [],
   "source": [
    "for i in x:\n",
    "    print(i)\n",
    "    print(i ** 2)\n",
    "    print(i ** 3)\n",
    "print('the end')"
   ]
  },
  {
   "cell_type": "code",
   "execution_count": null,
   "metadata": {},
   "outputs": [],
   "source": [
    "for i in x:\n",
    "    if i % 2 == 0:\n",
    "        print(i)"
   ]
  },
  {
   "cell_type": "code",
   "execution_count": null,
   "metadata": {},
   "outputs": [],
   "source": [
    "for i in x:\n",
    "    print(f'10 X {i} = {10*i}')"
   ]
  },
  {
   "source": [
    "### iterables in python - those items that can be looped in python\n",
    "- string\n",
    "- list\n",
    "- tuple\n",
    "- set\n",
    "- dict\n",
    "- range() - used for specifing the no of times a loop should run\n",
    "- so on.."
   ],
   "cell_type": "markdown",
   "metadata": {}
  },
  {
   "source": [
    "- `range(stop)`             -> gives a sequence from 0 ---> stop - 1\n",
    "- `range(start,stop)`       -> gives a sequence from start ---> stop - 1\n",
    "- `range(start, stop, gap)` -> gives a sequence from start ---> stop - 1, with a gap b.w values\n"
   ],
   "cell_type": "markdown",
   "metadata": {}
  },
  {
   "cell_type": "code",
   "execution_count": null,
   "metadata": {},
   "outputs": [],
   "source": [
    "for i in range(5):\n",
    "    print(i)"
   ]
  },
  {
   "cell_type": "code",
   "execution_count": null,
   "metadata": {},
   "outputs": [],
   "source": [
    "for a in range(5,11):\n",
    "    print(a)"
   ]
  },
  {
   "cell_type": "code",
   "execution_count": null,
   "metadata": {},
   "outputs": [],
   "source": [
    "for i in range(1,11,2):\n",
    "    print(i)"
   ]
  },
  {
   "cell_type": "code",
   "execution_count": null,
   "metadata": {},
   "outputs": [],
   "source": [
    "for i in range(10):\n",
    "    print('✅')"
   ]
  },
  {
   "cell_type": "code",
   "execution_count": null,
   "metadata": {},
   "outputs": [],
   "source": [
    "for i in range(10):\n",
    "    print('✅' * i)"
   ]
  },
  {
   "cell_type": "code",
   "execution_count": null,
   "metadata": {},
   "outputs": [],
   "source": [
    "\"ola\" * 4"
   ]
  },
  {
   "cell_type": "code",
   "execution_count": null,
   "metadata": {},
   "outputs": [],
   "source": [
    "for i in range(10,0,-1):\n",
    "    print(i)"
   ]
  },
  {
   "cell_type": "code",
   "execution_count": null,
   "metadata": {},
   "outputs": [],
   "source": [
    "for i in range(-5,5):\n",
    "    print(i)"
   ]
  },
  {
   "cell_type": "code",
   "execution_count": null,
   "metadata": {},
   "outputs": [],
   "source": [
    "for i in range(10,0,-1):\n",
    "    print('✅' * i)"
   ]
  },
  {
   "source": [
    "## break n continue\n",
    "- break => stop loop before its completion based on condition\n",
    "- continue => skip a code execution in loop"
   ],
   "cell_type": "markdown",
   "metadata": {}
  },
  {
   "cell_type": "code",
   "execution_count": null,
   "metadata": {},
   "outputs": [],
   "source": [
    "for i in range(10):\n",
    "    num = int(input('enter a value'))\n",
    "    if num > 50:\n",
    "        print(num)\n",
    "    else:\n",
    "        break\n",
    "print('the end') "
   ]
  },
  {
   "source": [
    "### continue"
   ],
   "cell_type": "markdown",
   "metadata": {}
  },
  {
   "cell_type": "code",
   "execution_count": null,
   "metadata": {},
   "outputs": [],
   "source": [
    "nums = [2,3,0,4,5,0,0,0,6,7,8,8,0,0,1,2,31,0,23,19,]\n",
    "len(nums)"
   ]
  },
  {
   "cell_type": "code",
   "execution_count": null,
   "metadata": {},
   "outputs": [],
   "source": [
    "for val in nums:\n",
    "    if val == 0:\n",
    "        continue\n",
    "    print('original',val)\n",
    "    print('square',val ** 2)\n",
    "    print('cube',val ** 3)\n",
    "    print('--'* 20)"
   ]
  },
  {
   "source": [
    "# while loop\n",
    "\n",
    "```\n",
    "while condition :\n",
    "    statement 1\n",
    "    statement 2\n",
    "    ...\n",
    "    statement n\n",
    "```"
   ],
   "cell_type": "markdown",
   "metadata": {}
  },
  {
   "cell_type": "code",
   "execution_count": null,
   "metadata": {},
   "outputs": [],
   "source": [
    "i = 123456789\n",
    "while i > 0:\n",
    "    print(i)\n",
    "    i = i // 10"
   ]
  },
  {
   "cell_type": "code",
   "execution_count": null,
   "metadata": {
    "tags": [
     "outputPrepend"
    ]
   },
   "outputs": [],
   "source": [
    "while True:\n",
    "    print('annant se bhi aage...')\n"
   ]
  },
  {
   "cell_type": "code",
   "execution_count": 15,
   "metadata": {},
   "outputs": [
    {
     "output_type": "stream",
     "name": "stdout",
     "text": [
      "try again\n",
      "welcome Mr Zorro\n"
     ]
    }
   ],
   "source": [
    "while True:\n",
    "    email = input('enter email addr')\n",
    "    password = input('enter password')\n",
    "\n",
    "    if email == 'zorro@gmail.com' and password =='lalala':\n",
    "        print('welcome Mr Zorro')\n",
    "        break\n",
    "    else:\n",
    "        print('try again')"
   ]
  },
  {
   "cell_type": "code",
   "execution_count": 20,
   "metadata": {},
   "outputs": [
    {
     "output_type": "stream",
     "name": "stdout",
     "text": [
      "Calculator Menu\n",
      "ADD\tSUB\tDIV\tEXIT\n",
      "----------------------------------------\n",
      ">>\n",
      "56 + 89 = 145\n",
      "~~~~~~~~~~~~~~~~~~~~~~~~~~~~~~~~~~~~~~~~\n",
      "Calculator Menu\n",
      "ADD\tSUB\tDIV\tEXIT\n",
      "----------------------------------------\n",
      ">>\n",
      "calc closed\n"
     ]
    }
   ],
   "source": [
    "# calculate\n",
    "while True:\n",
    "    print('Calculator Menu')\n",
    "    print('ADD\\tSUB\\tDIV\\tEXIT')\n",
    "    print('--'*20)\n",
    "    print('>>')\n",
    "    ch = input('select option >>')\n",
    "    if ch.lower() == 'add' :\n",
    "        x = int(input('enter A:'))\n",
    "        y = int(input('enter B:'))\n",
    "        print(f'{x} + {y} = {x+y}')\n",
    "        print('~~'*20)\n",
    "    elif ch.lower() == 'sub' :\n",
    "        x = int(input('enter A:'))\n",
    "        y = int(input('enter B:'))\n",
    "        print(f'{x} - {y} = {x-y}')\n",
    "        print('~~'*20)\n",
    "    elif ch.lower() == 'exit':\n",
    "        print('calc closed')\n",
    "        break\n"
   ]
  },
  {
   "cell_type": "code",
   "execution_count": 19,
   "metadata": {},
   "outputs": [
    {
     "output_type": "execute_result",
     "data": {
      "text/plain": [
       "'rakesh'"
      ]
     },
     "metadata": {},
     "execution_count": 19
    }
   ],
   "source": [
    "'Rakesh'.lower()"
   ]
  },
  {
   "source": [
    "## wap to make a program that takes lines from the user to store in a var - poem. the user any number of lines"
   ],
   "cell_type": "markdown",
   "metadata": {}
  },
  {
   "cell_type": "code",
   "execution_count": 22,
   "metadata": {},
   "outputs": [
    {
     "output_type": "stream",
     "name": "stdout",
     "text": [
      "enter ur poem >>\n",
      "you poem is\n",
      "ba ba black sheep\n",
      "have u any wool\n",
      "yes sir yes sir\n",
      "3 bags full\n",
      "poem nhi aati aage\n",
      "\n"
     ]
    }
   ],
   "source": [
    "poem = ''\n",
    "print(\"enter ur poem >>\")\n",
    "while True:\n",
    "    line = input('>>')\n",
    "    if line:            # if line has something\n",
    "        poem += line +'\\n'\n",
    "    else:\n",
    "        break\n",
    "print('you poem is')\n",
    "print(poem)"
   ]
  },
  {
   "cell_type": "code",
   "execution_count": 23,
   "metadata": {},
   "outputs": [
    {
     "output_type": "execute_result",
     "data": {
      "text/plain": [
       "'ba ba black sheep\\nhave u any wool\\nyes sir yes sir\\n3 bags full\\npoem nhi aati aage\\n'"
      ]
     },
     "metadata": {},
     "execution_count": 23
    }
   ],
   "source": [
    "poem"
   ]
  },
  {
   "cell_type": "code",
   "execution_count": null,
   "metadata": {},
   "outputs": [],
   "source": []
  }
 ]
}