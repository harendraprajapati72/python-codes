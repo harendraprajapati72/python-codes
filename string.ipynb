{
 "metadata": {
  "language_info": {
   "codemirror_mode": {
    "name": "ipython",
    "version": 3
   },
   "file_extension": ".py",
   "mimetype": "text/x-python",
   "name": "python",
   "nbconvert_exporter": "python",
   "pygments_lexer": "ipython3",
   "version": "3.9.1-final"
  },
  "orig_nbformat": 2,
  "kernelspec": {
   "name": "python3",
   "display_name": "Python 3.9.1 64-bit",
   "metadata": {
    "interpreter": {
     "hash": "ac59ebe37160ed0dfa835113d9b8498d9f09ceb179beaac4002f036b9467c963"
    }
   }
  }
 },
 "nbformat": 4,
 "nbformat_minor": 2,
 "cells": [
  {
   "source": [
    "# String property\n",
    "- indexed, ordered\n",
    "- immutable - dont change during code execution\n",
    "- str( ) - convert data to string datatype\n",
    "- can be wrapped in ' ', \" \", ''' ''',\n",
    "- triple quoted string can also be used in documentation"
   ],
   "cell_type": "markdown",
   "metadata": {}
  },
  {
   "cell_type": "code",
   "execution_count": 2,
   "metadata": {},
   "outputs": [],
   "source": [
    "flower = 'Chrysanthemum'\n",
    "name = 'Vijay deenanath chauhan'\n",
    "quote = '''Life before death,\n",
    "Hope before despair,\n",
    "Journey before Destination'''"
   ]
  },
  {
   "cell_type": "code",
   "execution_count": 3,
   "metadata": {},
   "outputs": [
    {
     "output_type": "stream",
     "name": "stdout",
     "text": [
      "Chrysanthemum\n"
     ]
    }
   ],
   "source": [
    "print(flower)"
   ]
  },
  {
   "cell_type": "code",
   "execution_count": 6,
   "metadata": {},
   "outputs": [
    {
     "output_type": "stream",
     "name": "stdout",
     "text": [
      "Life before death,\nHope before despair,\nJourney before Destination\n"
     ]
    }
   ],
   "source": [
    "print(quote)"
   ]
  },
  {
   "source": [
    "### create, indexing, slicing, functions"
   ],
   "cell_type": "markdown",
   "metadata": {}
  },
  {
   "cell_type": "code",
   "execution_count": 9,
   "metadata": {},
   "outputs": [
    {
     "output_type": "execute_result",
     "data": {
      "text/plain": [
       "'m'"
      ]
     },
     "metadata": {},
     "execution_count": 9
    }
   ],
   "source": [
    "flower[-1]"
   ]
  },
  {
   "source": [
    "## slicing\n",
    "- `string[startidx : stopidx]` => get substring from start till stop-1\n",
    "- `string[startidx:stopidx:gap]` => get substr from start till stop-1, with gap \n",
    "- `string[:stopidx]` => get substring from beginning till stop-1\n",
    "- `string[startidx:]` => get substring from start till length of string"
   ],
   "cell_type": "markdown",
   "metadata": {}
  },
  {
   "cell_type": "code",
   "execution_count": 10,
   "metadata": {},
   "outputs": [
    {
     "output_type": "execute_result",
     "data": {
      "text/plain": [
       "'Chrys'"
      ]
     },
     "metadata": {},
     "execution_count": 10
    }
   ],
   "source": [
    "flower[:5]"
   ]
  },
  {
   "cell_type": "code",
   "execution_count": 14,
   "metadata": {},
   "outputs": [
    {
     "output_type": "execute_result",
     "data": {
      "text/plain": [
       "'mum'"
      ]
     },
     "metadata": {},
     "execution_count": 14
    }
   ],
   "source": [
    "flower[-3:]"
   ]
  },
  {
   "cell_type": "code",
   "execution_count": 18,
   "metadata": {},
   "outputs": [
    {
     "output_type": "execute_result",
     "data": {
      "text/plain": [
       "40"
      ]
     },
     "metadata": {},
     "execution_count": 18
    }
   ],
   "source": [
    "quote.find('Journey')"
   ]
  },
  {
   "cell_type": "code",
   "execution_count": 17,
   "metadata": {},
   "outputs": [
    {
     "output_type": "execute_result",
     "data": {
      "text/plain": [
       "'Journey before Destination'"
      ]
     },
     "metadata": {},
     "execution_count": 17
    }
   ],
   "source": [
    "quote[40:]"
   ]
  },
  {
   "cell_type": "code",
   "execution_count": null,
   "metadata": {},
   "outputs": [],
   "source": []
  }
 ]
}